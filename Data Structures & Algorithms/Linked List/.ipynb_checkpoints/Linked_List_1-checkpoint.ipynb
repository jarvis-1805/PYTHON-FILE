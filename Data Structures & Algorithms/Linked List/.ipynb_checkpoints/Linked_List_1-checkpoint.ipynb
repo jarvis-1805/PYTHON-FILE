{
 "cells": [
  {
   "cell_type": "markdown",
   "metadata": {},
   "source": [
    "# Linked List Node"
   ]
  },
  {
   "cell_type": "code",
   "execution_count": 4,
   "metadata": {},
   "outputs": [
    {
     "name": "stdout",
     "output_type": "stream",
     "text": [
      "13\n",
      "15\n",
      "15\n",
      "<__main__.Node object at 0x000002DC602AE5E0>\n",
      "<__main__.Node object at 0x000002DC602AE0A0>\n",
      "<__main__.Node object at 0x000002DC602AE0A0>\n"
     ]
    }
   ],
   "source": [
    "class Node:\n",
    "    \n",
    "    def __init__(self, data):\n",
    "        self.data = data\n",
    "        self.next = None\n",
    "        \n",
    "a = Node(13)\n",
    "b = Node(15)\n",
    "a.next = b\n",
    "print(a.data)\n",
    "print(b.data)\n",
    "print(a.next.data)\n",
    "print(a)\n",
    "print(a.next)\n",
    "print(b)\n",
    "# print(b.next.data) ERROR"
   ]
  },
  {
   "cell_type": "markdown",
   "metadata": {},
   "source": [
    "# Linked List Input"
   ]
  },
  {
   "cell_type": "code",
   "execution_count": 1,
   "metadata": {
    "scrolled": false
   },
   "outputs": [
    {
     "name": "stdout",
     "output_type": "stream",
     "text": [
      "1 2 3 2 1\n",
      "1 -> 2 -> 3 -> 2 -> 1 -> None\n",
      "1 -> 2 -> 3 -> 2 -> 1 -> None\n"
     ]
    }
   ],
   "source": [
    "class Node:\n",
    "    def __init__(self, data):\n",
    "        self.data = data\n",
    "        self.next = None\n",
    "\n",
    "def take_input():\n",
    "    inputList = [int(ele) for ele in input().split()]\n",
    "    head = None\n",
    "    tail = None\n",
    "    for currData in inputList:\n",
    "        if currData == -1:\n",
    "            break\n",
    "            \n",
    "        newNode = Node(currData)\n",
    "        if head is None:\n",
    "            head = newNode\n",
    "            tail = newNode\n",
    "        else:\n",
    "            tail.next = newNode\n",
    "            tail = newNode\n",
    "        \n",
    "    return head\n",
    "\n",
    "def printLL(head):\n",
    "    while head is not None:\n",
    "        print(str(head.data) + ' -> ', end = '')\n",
    "        head = head.next\n",
    "    print('None')\n",
    "    \n",
    "    return\n",
    "\n",
    "head = take_input()\n",
    "printLL(head)\n",
    "printLL(head)"
   ]
  },
  {
   "cell_type": "markdown",
   "metadata": {},
   "source": [
    "# Insert At ith Position - Iteratively"
   ]
  },
  {
   "cell_type": "code",
   "execution_count": 12,
   "metadata": {
    "scrolled": true
   },
   "outputs": [
    {
     "name": "stdout",
     "output_type": "stream",
     "text": [
      "1 -> 2 -> 3 -> 4 -> 5 -> None\n",
      "1 -> 2 -> 6 -> 3 -> 4 -> 5 -> None\n"
     ]
    }
   ],
   "source": [
    "def length(head):\n",
    "    ctr = 0\n",
    "    while head is not None:\n",
    "        ctr += 1\n",
    "        head = head.next\n",
    "    return ctr\n",
    "\n",
    "def insert(head, i, key):\n",
    "    if i<0 or i>length(head):\n",
    "        return head\n",
    "    \n",
    "    curr = head\n",
    "    prev = None\n",
    "    ctr = 0\n",
    "    while ctr < i:\n",
    "        prev = curr\n",
    "        curr = curr.next\n",
    "        ctr += 1\n",
    "    \n",
    "    newNode = Node(key)\n",
    "    if prev is not None:\n",
    "        prev.next = newNode\n",
    "        \n",
    "    else:\n",
    "        head = newNode\n",
    "    newNode.next = curr\n",
    "    \n",
    "    return head\n",
    "\n",
    "printLL(head)\n",
    "head = insert(head, 2, 6)\n",
    "printLL(head)"
   ]
  },
  {
   "cell_type": "code",
   "execution_count": 14,
   "metadata": {},
   "outputs": [
    {
     "name": "stdout",
     "output_type": "stream",
     "text": [
      "9 -> 1 -> 2 -> 6 -> 3 -> 4 -> 5 -> None\n"
     ]
    }
   ],
   "source": [
    "head = insert(head, 0, 9)\n",
    "printLL(head)"
   ]
  },
  {
   "cell_type": "code",
   "execution_count": 15,
   "metadata": {},
   "outputs": [
    {
     "name": "stdout",
     "output_type": "stream",
     "text": [
      "9 -> 1 -> 2 -> 6 -> 3 -> 4 -> 5 -> 10 -> None\n"
     ]
    }
   ],
   "source": [
    "head = insert(head, 7, 10)\n",
    "printLL(head)"
   ]
  },
  {
   "cell_type": "code",
   "execution_count": 16,
   "metadata": {},
   "outputs": [
    {
     "name": "stdout",
     "output_type": "stream",
     "text": [
      "9 -> 1 -> 2 -> 6 -> 3 -> 4 -> 5 -> 10 -> None\n"
     ]
    }
   ],
   "source": [
    "head = insert(head, 9, 13)\n",
    "printLL(head)"
   ]
  },
  {
   "cell_type": "markdown",
   "metadata": {},
   "source": [
    "# Insert At Ith Position - Recursively"
   ]
  },
  {
   "cell_type": "code",
   "execution_count": 3,
   "metadata": {},
   "outputs": [
    {
     "name": "stdout",
     "output_type": "stream",
     "text": [
      "1 -> 2 -> 3 -> 4 -> 5 -> None\n",
      "1 -> 2 -> 6 -> 3 -> 4 -> 5 -> None\n"
     ]
    }
   ],
   "source": [
    "def insertRec(head, i, data):\n",
    "    if i<0:\n",
    "        return head\n",
    "    \n",
    "    if i == 0:\n",
    "        newNode = Node(data)\n",
    "        newNode.next = head\n",
    "        return newNode\n",
    "    \n",
    "    if head is None:\n",
    "        return None\n",
    "    \n",
    "    smallHead = insertRec(head.next, i-1, data)\n",
    "    head.next = smallHead\n",
    "    return head\n",
    "\n",
    "printLL(head)\n",
    "head = insertRec(head, 2, 6)\n",
    "printLL(head)"
   ]
  },
  {
   "cell_type": "code",
   "execution_count": 4,
   "metadata": {},
   "outputs": [
    {
     "name": "stdout",
     "output_type": "stream",
     "text": [
      "9 -> 1 -> 2 -> 6 -> 3 -> 4 -> 5 -> None\n"
     ]
    }
   ],
   "source": [
    "head = insertRec(head, 0, 9)\n",
    "printLL(head)"
   ]
  },
  {
   "cell_type": "code",
   "execution_count": 5,
   "metadata": {},
   "outputs": [
    {
     "name": "stdout",
     "output_type": "stream",
     "text": [
      "9 -> 1 -> 2 -> 6 -> 3 -> 4 -> 5 -> 10 -> None\n"
     ]
    }
   ],
   "source": [
    "head = insertRec(head, 7, 10)\n",
    "printLL(head)"
   ]
  },
  {
   "cell_type": "code",
   "execution_count": 6,
   "metadata": {},
   "outputs": [
    {
     "name": "stdout",
     "output_type": "stream",
     "text": [
      "9 -> 1 -> 2 -> 6 -> 3 -> 4 -> 5 -> 10 -> None\n"
     ]
    }
   ],
   "source": [
    "head = insertRec(head, 9, 13)\n",
    "printLL(head)"
   ]
  },
  {
   "cell_type": "code",
   "execution_count": null,
   "metadata": {},
   "outputs": [],
   "source": []
  }
 ],
 "metadata": {
  "kernelspec": {
   "display_name": "Python 3",
   "language": "python",
   "name": "python3"
  },
  "language_info": {
   "codemirror_mode": {
    "name": "ipython",
    "version": 3
   },
   "file_extension": ".py",
   "mimetype": "text/x-python",
   "name": "python",
   "nbconvert_exporter": "python",
   "pygments_lexer": "ipython3",
   "version": "3.8.2"
  }
 },
 "nbformat": 4,
 "nbformat_minor": 4
}
