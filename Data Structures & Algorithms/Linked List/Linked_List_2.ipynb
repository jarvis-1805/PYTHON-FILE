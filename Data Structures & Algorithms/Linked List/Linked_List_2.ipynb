{
 "cells": [
  {
   "cell_type": "markdown",
   "metadata": {},
   "source": [
    "# Reverse LL (Recursive) Code"
   ]
  },
  {
   "cell_type": "code",
   "execution_count": 1,
   "metadata": {},
   "outputs": [],
   "source": [
    "class Node:\n",
    "    def __init__(self, data):\n",
    "        self.data = data\n",
    "        self.next = None\n",
    "\n",
    "def take_input():\n",
    "    inputList = [int(ele) for ele in input().split()]\n",
    "    head = None\n",
    "    tail = None\n",
    "    for currData in inputList:\n",
    "        if currData == -1:\n",
    "            break\n",
    "            \n",
    "        newNode = Node(currData)\n",
    "        if head is None:\n",
    "            head = newNode\n",
    "            tail = newNode\n",
    "        else:\n",
    "            tail.next = newNode\n",
    "            tail = newNode\n",
    "        \n",
    "    return head\n",
    "\n",
    "def printLL(head):\n",
    "    while head is not None:\n",
    "        print(str(head.data) + ' -> ', end = '')\n",
    "        head = head.next\n",
    "    print('None')\n",
    "    \n",
    "    return\n",
    "\n",
    "def reverse1(head):\n",
    "    if head is None or head.next is None:\n",
    "        return head\n",
    "    smallHead = reverse1(head.next)\n",
    "    curr = smallHead\n",
    "    while curr.next is not None:\n",
    "        curr = curr.next\n",
    "    curr.next = head\n",
    "    head.next = None\n",
    "    return smallHead\n",
    "\n",
    "def reverse2(head):\n",
    "    if head is None or head.next is None:\n",
    "        return head, head\n",
    "    smallHead, smallTail = reverse2(head.next)\n",
    "    smallTail.next = head\n",
    "    head.next = None\n",
    "    return smallHead, head\n",
    "\n",
    "def reverse3(head):\n",
    "    if head is None or head.next is None:\n",
    "        return head\n",
    "    smallHead = reverse3(head.next)\n",
    "    head.next.next = head\n",
    "    head.next = None\n",
    "    return smallHead\n",
    "\n",
    "#head = take_input()\n",
    "#printLL(head)\n",
    "#head = reverse1(head)\n",
    "#head, tail = reverse2(head)\n",
    "#head = reverse3(head)\n",
    "#printLL(head)"
   ]
  },
  {
   "cell_type": "code",
   "execution_count": 4,
   "metadata": {},
   "outputs": [
    {
     "name": "stdout",
     "output_type": "stream",
     "text": [
      "2 5 8 12\n",
      "3 6 9\n",
      "2 -> 5 -> 8 -> 12 -> None\n",
      "3 -> 6 -> 9 -> None\n"
     ]
    }
   ],
   "source": [
    "def mergeTwoSortedLinkedLists(head1, head2):\n",
    "\n",
    "    # Write your code here\n",
    "    if head1 is None and head2 is None:\n",
    "        return None\n",
    "    if head1 is None:\n",
    "        return head2\n",
    "    if head2 is None:\n",
    "        return head1\n",
    "    head = None\n",
    "    tail = None\n",
    "    while head1 is not None and head2 is not None:\n",
    "        if head1.data < head2.data:\n",
    "            if head is None:\n",
    "                head = head1\n",
    "                tail = head1\n",
    "            else:\n",
    "                tail.next = head1\n",
    "                tail = tail.next\n",
    "            head1 = head1.next\n",
    "        elif head2.data < head1.data:\n",
    "            if head is None:\n",
    "                head = head2\n",
    "                tail = head2\n",
    "            else:\n",
    "                tail.next = head2\n",
    "                tail = tail.next\n",
    "            head2 = head2.next\n",
    "            \n",
    "    if head1 is not None:\n",
    "        tail.next = head1\n",
    "    if head2 is not None:\n",
    "        tail.next = head2\n",
    "    return head\n",
    "\n",
    "head1 = take_input()\n",
    "head2 = take_input()\n",
    "printLL(head1)\n",
    "printLL(head2)"
   ]
  },
  {
   "cell_type": "code",
   "execution_count": 5,
   "metadata": {},
   "outputs": [
    {
     "name": "stdout",
     "output_type": "stream",
     "text": [
      "2 -> 5 -> 8 -> 12 -> None\n",
      "3 -> 6 -> 9 -> None\n",
      "2 -> 3 -> 5 -> 6 -> 8 -> 9 -> 12 -> None\n"
     ]
    }
   ],
   "source": [
    "printLL(head1)\n",
    "printLL(head2)\n",
    "head = mergeTwoSortedLinkedLists(head1, head2)\n",
    "printLL(head)"
   ]
  },
  {
   "cell_type": "code",
   "execution_count": null,
   "metadata": {},
   "outputs": [],
   "source": []
  }
 ],
 "metadata": {
  "kernelspec": {
   "display_name": "Python 3",
   "language": "python",
   "name": "python3"
  },
  "language_info": {
   "codemirror_mode": {
    "name": "ipython",
    "version": 3
   },
   "file_extension": ".py",
   "mimetype": "text/x-python",
   "name": "python",
   "nbconvert_exporter": "python",
   "pygments_lexer": "ipython3",
   "version": "3.8.2"
  }
 },
 "nbformat": 4,
 "nbformat_minor": 4
}
