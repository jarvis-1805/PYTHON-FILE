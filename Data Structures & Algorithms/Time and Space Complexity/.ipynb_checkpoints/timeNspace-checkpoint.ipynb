{
 "cells": [
  {
   "cell_type": "code",
   "execution_count": 10,
   "metadata": {},
   "outputs": [],
   "source": [
    "def merge(a1, a2, a):\n",
    "    i = 0\n",
    "    j = 0\n",
    "    k = 0\n",
    "    while i < len(a1) and j < len(a2):\n",
    "        if a1[i] < a2[j]:\n",
    "            a[k] = a1[i]\n",
    "            k = k + 1\n",
    "            i = i + 1\n",
    "        else:\n",
    "            a[k] = a2[j]\n",
    "            k = k + 1\n",
    "            j = j + 1\n",
    "            \n",
    "    while i < len(a1):\n",
    "        a[k] = a1[i]\n",
    "        k = k + 1\n",
    "        i = i + 1\n",
    "        \n",
    "    while j < len(a2):\n",
    "        a[k] = a2[j]\n",
    "        k = k + 1\n",
    "        j = j + 1\n",
    "\n",
    "def mergeSort(a):\n",
    "    if len(a) == 0 or len(a) == 1:\n",
    "        return\n",
    "    mid = len(a)//2\n",
    "    a1 = a[:mid]\n",
    "    a2 = a[mid:]\n",
    "    \n",
    "    mergeSort(a1)\n",
    "    mergeSort(a2)\n",
    "    \n",
    "    merge(a1, a2, a)"
   ]
  },
  {
   "cell_type": "code",
   "execution_count": 20,
   "metadata": {},
   "outputs": [
    {
     "name": "stdout",
     "output_type": "stream",
     "text": [
      "9\n",
      "4\n"
     ]
    }
   ],
   "source": [
    "def merge(a1, a2, a):\n",
    "    i = 0\n",
    "    j = 0\n",
    "    k = 0\n",
    "    comparisions = 0\n",
    "    \n",
    "    while i < len(a1) and j < len(a2):\n",
    "        comparisions += 1\n",
    "        if a1[i] < a2[j]:\n",
    "            a[k] = a1[i]\n",
    "            k = k + 1\n",
    "            i = i + 1\n",
    "        else:\n",
    "            a[k] = a2[j]\n",
    "            k = k + 1\n",
    "            j = j + 1\n",
    "            \n",
    "    while i < len(a1):\n",
    "        a[k] = a1[i]\n",
    "        k = k + 1\n",
    "        i = i + 1\n",
    "        \n",
    "    while j < len(a2):\n",
    "        a[k] = a2[j]\n",
    "        k = k + 1\n",
    "        j = j + 1\n",
    "    \n",
    "    return comparisions\n",
    "\n",
    "def mergeSort(a):\n",
    "    if len(a) == 0 or len(a) == 1:\n",
    "        return 0\n",
    "    mid = len(a)//2\n",
    "    a1 = a[:mid]\n",
    "    a2 = a[mid:]\n",
    "    \n",
    "    comparisions = 0\n",
    "  \n",
    "    comparisions += mergeSort(a1)\n",
    "    \n",
    "    comparisions += mergeSort(a2)\n",
    "    \n",
    "    comparisions += merge(a1, a2, a)\n",
    "    return comparisions\n",
    "\n",
    "arr1 = [2, 6, 8, 5, 4, 3]\n",
    "arr2 = [2, 3, 4, 7]\n",
    "print(mergeSort(arr1))\n",
    "print(mergeSort(arr2))"
   ]
  },
  {
   "cell_type": "code",
   "execution_count": 3,
   "metadata": {},
   "outputs": [],
   "source": [
    "def selection_sort(a):\n",
    "    for i in range(len(a)):\n",
    "        minim = i\n",
    "        for j in range(i+1, len(a)):\n",
    "            if a[minim] > a[j]:\n",
    "                minim = j\n",
    "        a[i], a[minim] = a[minim], a[i]"
   ]
  },
  {
   "cell_type": "code",
   "execution_count": 4,
   "metadata": {},
   "outputs": [],
   "source": [
    "def create_rev_array(n):\n",
    "    a = []\n",
    "    for i in range(n, 0, -1):\n",
    "        a.append(i)\n",
    "    return a"
   ]
  },
  {
   "cell_type": "code",
   "execution_count": 5,
   "metadata": {},
   "outputs": [],
   "source": [
    "import time"
   ]
  },
  {
   "cell_type": "code",
   "execution_count": 12,
   "metadata": {},
   "outputs": [],
   "source": [
    "n = 10000"
   ]
  },
  {
   "cell_type": "code",
   "execution_count": 16,
   "metadata": {},
   "outputs": [
    {
     "name": "stdout",
     "output_type": "stream",
     "text": [
      "1610993942.0477958\n",
      "1610993942.152874\n",
      "10000 0.10507822036743164\n"
     ]
    }
   ],
   "source": [
    "a = create_rev_array(n)\n",
    "#print(a)\n",
    "start = time.time()\n",
    "print(start)\n",
    "mergeSort(a)\n",
    "end = time.time()\n",
    "print(end)\n",
    "#print(a)\n",
    "print(n, end - start)\n",
    "#print(time.time())"
   ]
  },
  {
   "cell_type": "code",
   "execution_count": 17,
   "metadata": {},
   "outputs": [
    {
     "name": "stdout",
     "output_type": "stream",
     "text": [
      "1610993945.610887\n",
      "1610993954.1504884\n",
      "10000 8.53960132598877\n"
     ]
    }
   ],
   "source": [
    "a = create_rev_array(n)\n",
    "#print(a)\n",
    "start = time.time()\n",
    "print(start)\n",
    "selection_sort(a)\n",
    "end = time.time()\n",
    "print(end)\n",
    "#print(a)\n",
    "print(n, end - start)\n",
    "#print(time.time())"
   ]
  },
  {
   "cell_type": "markdown",
   "metadata": {},
   "source": [
    "# Power Of A Number"
   ]
  },
  {
   "cell_type": "code",
   "execution_count": 4,
   "metadata": {},
   "outputs": [
    {
     "name": "stdout",
     "output_type": "stream",
     "text": [
      "3 4\n",
      "81\n"
     ]
    }
   ],
   "source": [
    "def power(x, n):\n",
    "    if n == 0:\n",
    "        return 1\n",
    "    return x * power(x, n-1)\n",
    "\n",
    "# Main\n",
    "from sys import setrecursionlimit\n",
    "setrecursionlimit(11000)\n",
    "x, n=list(int(i) for i in input().strip().split(' '))\n",
    "print(power(x, n))"
   ]
  },
  {
   "cell_type": "code",
   "execution_count": null,
   "metadata": {},
   "outputs": [],
   "source": [
    "def power(x, n):\n",
    "    if n == 0:\n",
    "        return 1\n",
    "    smallPower = power(x, n/2)\n",
    "    if n % 2 == 0:\n",
    "        return smallPower * smallPower\n",
    "    else:\n",
    "        return x * smallPower * smallPower\n",
    "\n",
    "# Main\n",
    "#from sys import setrecursionlimit\n",
    "#setrecursionlimit(11000)\n",
    "#x, n=list(int(i) for i in input().strip().split(' '))\n",
    "x = int(input())\n",
    "n = int(input())\n",
    "print(power(x, n))"
   ]
  },
  {
   "cell_type": "markdown",
   "metadata": {},
   "source": [
    "# Array Intersection\n",
    "\n",
    "You have been given two integer arrays/list(ARR1 and ARR2) of size N and M, respectively. You need to print their intersection; An intersection for this problem can be defined when both the arrays/lists contain a particular value or to put it in other words, when there is a common value that exists in both the arrays/lists.\n",
    "Note :\n",
    "Input arrays/lists can contain duplicate elements.\n",
    "\n",
    "The intersection elements printed would be in the order they appear in the first sorted array/list(ARR1)."
   ]
  },
  {
   "cell_type": "code",
   "execution_count": 9,
   "metadata": {},
   "outputs": [
    {
     "name": "stdout",
     "output_type": "stream",
     "text": [
      "[2, 3, 4, 5, 6, 8]\n",
      "[2, 3, 4, 7]\n",
      "2 3 4 "
     ]
    }
   ],
   "source": [
    "def insertion_sort(arr, l):\n",
    "    for i in range(1, l):\n",
    "        key = arr[i]\n",
    "        j = i - 1\n",
    "        while(j >= 0 and arr[j] > key):\n",
    "            arr[j+1] = arr[j]\n",
    "            j = j - 1\n",
    "        arr[j+1] = key\n",
    "\n",
    "def intersection(arr1, arr2, n, m):\n",
    "    insertion_sort(arr1, n)\n",
    "    print(arr1)\n",
    "    insertion_sort(arr2, m)\n",
    "    print(arr2)\n",
    "    i, j = 0, 0\n",
    "    while i < n and j < m:\n",
    "        if arr1[i] == arr2[j]:\n",
    "            print(arr1[i], end=' ')\n",
    "            i += 1\n",
    "            j += 1\n",
    "        elif arr1[i] < arr2[j]:\n",
    "            i += 1\n",
    "        else:\n",
    "            j += 1\n",
    "\n",
    "arr1 = [2, 6, 8, 5, 4, 3]\n",
    "arr2 = [2, 3, 4, 7]\n",
    "intersection(arr1, arr2, len(arr1), len(arr2))"
   ]
  },
  {
   "cell_type": "code",
   "execution_count": 11,
   "metadata": {},
   "outputs": [
    {
     "name": "stdout",
     "output_type": "stream",
     "text": [
      "[2, 3, 4, 5, 6, 8]\n",
      "[2, 3, 4, 7]\n",
      "2 3 4 "
     ]
    }
   ],
   "source": [
    "def intersection(arr1, arr2, n, m):\n",
    "    mergeSort(arr1)\n",
    "    print(arr1)\n",
    "    mergeSort(arr2)\n",
    "    print(arr2)\n",
    "    i, j = 0, 0\n",
    "    while i < n and j < m:\n",
    "        if arr1[i] == arr2[j]:\n",
    "            print(arr1[i], end=' ')\n",
    "            i += 1\n",
    "            j += 1\n",
    "        elif arr1[i] < arr2[j]:\n",
    "            i += 1\n",
    "        else:\n",
    "            j += 1\n",
    "\n",
    "arr1 = [2, 6, 8, 5, 4, 3]\n",
    "arr2 = [2, 3, 4, 7]\n",
    "intersection(arr1, arr2, len(arr1), len(arr2))"
   ]
  },
  {
   "cell_type": "markdown",
   "metadata": {},
   "source": [
    "# Array Equilibrium Index\n",
    "\n",
    "For a given array/list(ARR) of size 'N,' find and return the 'Equilibrium Index' of the array/list.\n",
    "Equilibrium Index of an array/list is an index 'i' such that the sum of elements at indices [0 to (i - 1)] is equal to the sum of elements at indices [(i + 1) to (N-1)]. One thing to note here is, the item at the index 'i' is not included in either part.\n",
    "If more than one equilibrium indices are present, then the index appearing first in left to right fashion should be returned. Negative one(-1) if no such index is present.\n",
    "Example:\n",
    "Let's consider an array/list Arr = [2, 3, 10, -10, 4, 2, 9]  of size, N = 7.\n",
    "\n",
    "There exist two equilibrium indices, one at 2 and another at 3.\n",
    "\n",
    "At index 2, the sum of all the elements to the left, [2 + 3] is 5, and the elements to its right, [-10 + 4 + 2 + 9] is also 5. Hence index 2 is an equilibrium index according to the condition we want to achieve. Mind it that we haven't included the item at index 2, which is 10, to either of the parts.\n",
    "\n",
    "Similarly, we can see at index 3, the elements to its left sum up to 15 and to the right, sum up to 15 either. \n",
    "\n",
    "Since index 2 comes early in the order, left to right, the answer would be 2."
   ]
  },
  {
   "cell_type": "code",
   "execution_count": 11,
   "metadata": {},
   "outputs": [
    {
     "name": "stdout",
     "output_type": "stream",
     "text": [
      "4\n"
     ]
    }
   ],
   "source": [
    "def equi(arr):\n",
    "    rs, ls, ts = 0, 0, 0\n",
    "    for i in range(0, len(arr), 1):\n",
    "        ts += arr[i]\n",
    "    index = 0\n",
    "    while index < len(arr):\n",
    "        rs = ts - ls - arr[index]\n",
    "        if rs == ls:\n",
    "            return index\n",
    "        else:\n",
    "            ls = ls + arr[index]\n",
    "        index += 1\n",
    "    return -1\n",
    "    \n",
    "arr = [1,3,4,2,2,5,4,1]\n",
    "print(equi(arr))"
   ]
  },
  {
   "cell_type": "markdown",
   "metadata": {},
   "source": [
    "# Find the Unique Element\n",
    "\n",
    "You have been given an integer array/list(ARR) of size N. Where N is equal to [2M + 1].\n",
    "Now, in the given array/list, 'M' numbers are present twice and one number is present only once.\n",
    "You need to find and return that number which is unique in the array/list.\n",
    " Note:\n",
    "Unique element is always present in the array/list according to the given condition."
   ]
  },
  {
   "cell_type": "code",
   "execution_count": 1,
   "metadata": {},
   "outputs": [
    {
     "data": {
      "text/plain": [
       "1"
      ]
     },
     "execution_count": 1,
     "metadata": {},
     "output_type": "execute_result"
    }
   ],
   "source": [
    "def unique(arr):\n",
    "    xor = 0\n",
    "    for i in arr:\n",
    "        xor = xor ^ i\n",
    "    return xor\n",
    "\n",
    "arr = [2, 3, 1, 6, 3, 6, 2]\n",
    "unique(arr)"
   ]
  },
  {
   "cell_type": "markdown",
   "metadata": {},
   "source": [
    "# Duplicate in array\n",
    "\n",
    "You have been given an integer array/list(ARR) of size N which contains numbers from 0 to (N - 2). Each number is present at least once. That is, if N = 5, the array/list constitutes values ranging from 0 to 3, and among these, there is a single integer value that is present twice. You need to find and return that duplicate number present in the array.\n",
    "Note :\n",
    "Duplicate number is always present in the given array/list."
   ]
  },
  {
   "cell_type": "code",
   "execution_count": 3,
   "metadata": {},
   "outputs": [
    {
     "data": {
      "text/plain": [
       "7"
      ]
     },
     "execution_count": 3,
     "metadata": {},
     "output_type": "execute_result"
    }
   ],
   "source": [
    "def duplicate(arr, n):\n",
    "    ts = 0\n",
    "    for i in arr:\n",
    "        ts += i\n",
    "    ns = ((n-2)*(n-1))//2\n",
    "    return ts - ns\n",
    "\n",
    "arr = [0, 7, 2, 5, 4, 7, 1, 3, 6]\n",
    "duplicate(arr, len(arr))"
   ]
  },
  {
   "cell_type": "markdown",
   "metadata": {},
   "source": [
    "# Pair sum in array\n",
    "\n",
    "You have been given an integer array/list(ARR) and a number 'num'. Find and return the total number of pairs in the array/list which sum to 'num'.\n",
    "Note: Given array/list can contain duplicate elements. "
   ]
  },
  {
   "cell_type": "code",
   "execution_count": 1,
   "metadata": {},
   "outputs": [
    {
     "name": "stdout",
     "output_type": "stream",
     "text": [
      "(2, 2)\n",
      "(2, 2)\n",
      "(2, 2)\n",
      "(2, 2)\n",
      "(2, 2)\n",
      "(2, 2)\n",
      "(2, 2)\n",
      "(2, 2)\n",
      "(2, 2)\n",
      "(2, 2)\n"
     ]
    }
   ],
   "source": [
    "def pair_sum(arr, n, sum):\n",
    "    for i in range(0, n ):\n",
    "        for j in range(i + 1, n ):\n",
    "            if (arr[i] + arr[j] == sum):\n",
    "                print(\"(\", arr[i], \", \", arr[j], \")\", sep = \"\")\n",
    "\n",
    "arr = [2,2,2,2,2]\n",
    "n = len(arr)\n",
    "sum = 4\n",
    "pair_sum(arr, n, sum)"
   ]
  },
  {
   "cell_type": "code",
   "execution_count": 15,
   "metadata": {},
   "outputs": [
    {
     "data": {
      "text/plain": [
       "10"
      ]
     },
     "execution_count": 15,
     "metadata": {},
     "output_type": "execute_result"
    }
   ],
   "source": [
    "def pair_sum(arr, n, sum):\n",
    "    low = 0;\n",
    "    high = len(arr) - 1;\n",
    "    for i in range(1, n):\n",
    "        if arr[0] != arr[i]:\n",
    "            break\n",
    "    else:\n",
    "        return ((n)*(n-1))//2\n",
    "    while (low < high):\n",
    "        if (arr[low] + arr[high] == sum):\n",
    "            print(\"The pair is : (\", arr[low], \", \", arr[high], \")\");\n",
    "        if (arr[low] + arr[high] > sum):\n",
    "            high -= 1;\n",
    "        else:\n",
    "            low += 1;\n",
    "\n",
    "arr = [2,2,2,2,2]\n",
    "#arr = [3,3,3,3,3,3]\n",
    "#arr = [2, 3, 4, -2, 6, 8, 9, 11]\n",
    "arr.sort()\n",
    "n = len(arr)\n",
    "sum = 7\n",
    "pair_sum(arr, n, sum)"
   ]
  },
  {
   "cell_type": "code",
   "execution_count": 6,
   "metadata": {},
   "outputs": [
    {
     "name": "stdout",
     "output_type": "stream",
     "text": [
      "The pair is : ( 2 ,  2 )\n",
      "The pair is : ( 2 ,  2 )\n",
      "The pair is : ( 2 ,  2 )\n",
      "The pair is : ( 2 ,  2 )\n"
     ]
    }
   ],
   "source": [
    "def printPairs(arr, n, sum):\n",
    "    mydict = dict()\n",
    "    for i in range(n):\n",
    "        temp = sum - arr[i]\n",
    "        if temp in mydict:\n",
    "            count = mydict[temp]\n",
    "            for j in range(count):\n",
    "                print(\"(\", temp, \", \", arr[i],\n",
    "                      \")\", sep = \"\", end = '\\n')\n",
    "                       \n",
    "        if arr[i] in mydict:\n",
    "            mydict[arr[i]] += 1\n",
    "        else:\n",
    "            mydict[arr[i]] = 1\n",
    "            \n",
    "arr = [2,2,2,2,2]\n",
    "n = len(arr)\n",
    "sum = 4\n",
    "pair_sum(arr, n, sum)"
   ]
  },
  {
   "cell_type": "code",
   "execution_count": 25,
   "metadata": {},
   "outputs": [
    {
     "name": "stdout",
     "output_type": "stream",
     "text": [
      "0\n"
     ]
    }
   ],
   "source": [
    "def getPairsCount(arr, n, sum):\n",
    "    m = [0] * 10000\n",
    "    for i in range(0, n):\n",
    "        m[arr[i]] += 1\n",
    "        \n",
    "    twice_count = 0\n",
    "    for i in range(0, n):\n",
    "        twice_count += m[sum - arr[i]]\n",
    "        if (sum - arr[i] == arr[i]):\n",
    "            twice_count -= 1\n",
    "\n",
    "    return int(twice_count / 2)\n",
    "\n",
    "arr = [2,2,2,2,2]\n",
    "#arr = [1, 5, 7, -1, 5]\n",
    "n = len(arr)\n",
    "sum = 6\n",
    "print(getPairsCount(arr, n, sum))"
   ]
  },
  {
   "cell_type": "markdown",
   "metadata": {},
   "source": [
    "# Triplet sum\n",
    "\n",
    "You have been given a random integer array/list(ARR) and a number X. Find and return the triplet(s) in the array/list which sum to X.\n",
    "Note :\n",
    "Given array/list can contain duplicate elements."
   ]
  },
  {
   "cell_type": "code",
   "execution_count": 33,
   "metadata": {},
   "outputs": [
    {
     "data": {
      "text/plain": [
       "5"
      ]
     },
     "execution_count": 33,
     "metadata": {},
     "output_type": "execute_result"
    }
   ],
   "source": [
    "def findTriplets(arr, n, Sum):\n",
    "    c = 0\n",
    "    for i in range(n - 1):\n",
    "        s = dict() \n",
    "        for j in range(i + 1, n): \n",
    "            x = Sum - (arr[i] + arr[j]) \n",
    "            if x in s.keys(): \n",
    "                c += 1 \n",
    "            else: \n",
    "                s[arr[j]] = 1\n",
    "    return c\n",
    "\n",
    "#arr = [1, 2, 3, 4, 5, 6, 7] \n",
    "arr = [6, 1, 6, 5, 3, 2, 5, 0, 5, 6, 0]\n",
    "Sum = 5\n",
    "n = len(arr)\n",
    "findTriplets(arr, n, Sum)"
   ]
  },
  {
   "cell_type": "code",
   "execution_count": 32,
   "metadata": {},
   "outputs": [
    {
     "name": "stdout",
     "output_type": "stream",
     "text": [
      "0 0 5\n",
      "0 2 3\n",
      "0 2 3\n"
     ]
    }
   ],
   "source": [
    "def findTriplets(arr, n, sum):\n",
    "    arr.sort()\n",
    "  \n",
    "    for i in range(0, n - 1):\n",
    "        l = i + 1\n",
    "        r = n - 1\n",
    "        x = arr[i]\n",
    "        while (l < r) : \n",
    "            if (x + arr[l] + arr[r] == sum) : \n",
    "                print(x, arr[l], arr[r])\n",
    "                l = l + 1\n",
    "                r = r - 1\n",
    "            elif (x + arr[l] + arr[r] < sum): \n",
    "                l = l + 1\n",
    "            else: \n",
    "                r = r - 1\n",
    "\n",
    "arr = [6, 1, 6, 5, 3, 2, 5, 0, 5, 6, 0]\n",
    "sum = 5\n",
    "n = len(arr)\n",
    "findTriplets(arr, n, sum)"
   ]
  },
  {
   "cell_type": "code",
   "execution_count": 4,
   "metadata": {},
   "outputs": [
    {
     "name": "stdout",
     "output_type": "stream",
     "text": [
      "5\n"
     ]
    }
   ],
   "source": [
    "def tripletSum(arr, n, num):\n",
    "    arr.sort()\n",
    "    numTriplets = 0\n",
    "    for i in range(n):\n",
    "        pairSumFor = num - arr[i]\n",
    "        numPairs = pairSum(arr, (i + 1), (n-1), pairSumFor)\n",
    "        numTriplets += numPairs\n",
    "    return numTriplets\n",
    "\n",
    "def pairSum(arr, si, ei, num):\n",
    "    numPair = 0\n",
    "    while si < ei:\n",
    "        if arr[si] + arr[ei] < num:\n",
    "            si += 1\n",
    "        elif arr[si] + arr[ei] > num:\n",
    "            ei -= 1\n",
    "        else:\n",
    "            elementAtStart = arr[si]\n",
    "            elementAtEnd = arr[ei]\n",
    "            if elementAtStart == elementAtEnd:\n",
    "                totalElementsFromStartToEnd = (ei - si) + 1\n",
    "                nmPair += (totalElementsFromStartToEnd * (totalElementsFromStartToEnd - 1) // 2)\n",
    "                return numPair\n",
    "            tempsi = si + 1\n",
    "            tempei = ei - 1\n",
    "\n",
    "            while tempsi <= tempei and arr[tempsi] == elementAtStart:\n",
    "                tempsi += 1\n",
    "\n",
    "            while tempei >= tempsi and arr[tempei] == elementAtEnd:\n",
    "                tempei -= 1\n",
    "\n",
    "            totalElementsFromStart = tempsi - si\n",
    "            totalElementsFromEnd = ei - tempei\n",
    "\n",
    "            numPair += totalElementsFromStart * totalElementsFromEnd\n",
    "\n",
    "            si = tempsi\n",
    "            ei = tempei\n",
    "    return numPair\n",
    "\n",
    "arr = [1, 2, 3, 4, 5, 6, 7]\n",
    "print(tripletSum(arr, len(arr), 12))"
   ]
  },
  {
   "cell_type": "markdown",
   "metadata": {},
   "source": [
    "# Rotate array\n",
    "\n",
    "You have been given a random integer array/list(ARR) of size N. Write a function that rotates the given array/list by D elements(towards the left).\n",
    " Note:\n",
    "Change in the input array/list itself. You don't need to return or print the elements."
   ]
  },
  {
   "cell_type": "code",
   "execution_count": 39,
   "metadata": {},
   "outputs": [],
   "source": [
    "def rotate(arr, n, x):\n",
    "    a = arr[:x]\n",
    "    p = 0\n",
    "    for i in range(x, n):\n",
    "        arr[p] = arr[i]\n",
    "        p += 1\n",
    "    p = 0\n",
    "    for i in range(n-x, n):\n",
    "        arr[i] = a[p]\n",
    "        p += 1\n",
    "    \n",
    "arr = [2,3,4,5,1]\n",
    "rotate(arr, len(arr), 2)"
   ]
  },
  {
   "cell_type": "code",
   "execution_count": null,
   "metadata": {},
   "outputs": [],
   "source": []
  }
 ],
 "metadata": {
  "kernelspec": {
   "display_name": "Python 3",
   "language": "python",
   "name": "python3"
  },
  "language_info": {
   "codemirror_mode": {
    "name": "ipython",
    "version": 3
   },
   "file_extension": ".py",
   "mimetype": "text/x-python",
   "name": "python",
   "nbconvert_exporter": "python",
   "pygments_lexer": "ipython3",
   "version": "3.8.2"
  }
 },
 "nbformat": 4,
 "nbformat_minor": 4
}
