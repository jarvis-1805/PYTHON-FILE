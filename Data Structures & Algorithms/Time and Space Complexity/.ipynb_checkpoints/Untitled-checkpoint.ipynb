{
 "cells": [
  {
   "cell_type": "code",
   "execution_count": 2,
   "metadata": {},
   "outputs": [],
   "source": [
    "def merge(a1, a2, a):\n",
    "    i = 0\n",
    "    j = 0\n",
    "    k = 0\n",
    "    while i < len(a1) and j < len(a2):\n",
    "        if a1[i] < a2[j]:\n",
    "            a[k] = a1[i]\n",
    "            k = k + 1\n",
    "            i = i + 1\n",
    "        else:\n",
    "            a[k] = a2[j]\n",
    "            k = k + 1\n",
    "            j = j + 1\n",
    "            \n",
    "    while i < len(a1):\n",
    "        a[k] = a1[i]\n",
    "        k = k + 1\n",
    "        i = i + 1\n",
    "        \n",
    "    while j < len(a2):\n",
    "        a[k] = a2[j]\n",
    "        k = k + 1\n",
    "        j = j + 1\n",
    "\n",
    "def mergeSort(a):\n",
    "    if len(a) == 0 or len(a) == 1:\n",
    "        return\n",
    "    mid = len(a)//2\n",
    "    a1 = a[:mid]\n",
    "    a2 = a[mid:]\n",
    "    \n",
    "    mergeSort(a1)\n",
    "    mergeSort(a2)\n",
    "    \n",
    "    merge(a1, a2, a)"
   ]
  },
  {
   "cell_type": "code",
   "execution_count": 3,
   "metadata": {},
   "outputs": [],
   "source": [
    "def selection_sort(a):\n",
    "    for i in range(len(a)):\n",
    "        minim = i\n",
    "        for j in range(i+1, len(a)):\n",
    "            if a[minim] > a[j]:\n",
    "                minim = j\n",
    "        a[i], a[minim] = a[minim], a[i]"
   ]
  },
  {
   "cell_type": "code",
   "execution_count": 4,
   "metadata": {},
   "outputs": [],
   "source": [
    "def create_rev_array(n):\n",
    "    a = []\n",
    "    for i in range(n, 0, -1):\n",
    "        a.append(i)\n",
    "    return a"
   ]
  },
  {
   "cell_type": "code",
   "execution_count": 5,
   "metadata": {},
   "outputs": [],
   "source": [
    "import time"
   ]
  },
  {
   "cell_type": "code",
   "execution_count": 12,
   "metadata": {},
   "outputs": [],
   "source": [
    "n = 10000"
   ]
  },
  {
   "cell_type": "code",
   "execution_count": 16,
   "metadata": {},
   "outputs": [
    {
     "name": "stdout",
     "output_type": "stream",
     "text": [
      "1610993942.0477958\n",
      "1610993942.152874\n",
      "10000 0.10507822036743164\n"
     ]
    }
   ],
   "source": [
    "a = create_rev_array(n)\n",
    "#print(a)\n",
    "start = time.time()\n",
    "print(start)\n",
    "mergeSort(a)\n",
    "end = time.time()\n",
    "print(end)\n",
    "#print(a)\n",
    "print(n, end - start)\n",
    "#print(time.time())"
   ]
  },
  {
   "cell_type": "code",
   "execution_count": 17,
   "metadata": {},
   "outputs": [
    {
     "name": "stdout",
     "output_type": "stream",
     "text": [
      "1610993945.610887\n",
      "1610993954.1504884\n",
      "10000 8.53960132598877\n"
     ]
    }
   ],
   "source": [
    "a = create_rev_array(n)\n",
    "#print(a)\n",
    "start = time.time()\n",
    "print(start)\n",
    "selection_sort(a)\n",
    "end = time.time()\n",
    "print(end)\n",
    "#print(a)\n",
    "print(n, end - start)\n",
    "#print(time.time())"
   ]
  },
  {
   "cell_type": "code",
   "execution_count": null,
   "metadata": {},
   "outputs": [],
   "source": []
  }
 ],
 "metadata": {
  "kernelspec": {
   "display_name": "Python 3",
   "language": "python",
   "name": "python3"
  },
  "language_info": {
   "codemirror_mode": {
    "name": "ipython",
    "version": 3
   },
   "file_extension": ".py",
   "mimetype": "text/x-python",
   "name": "python",
   "nbconvert_exporter": "python",
   "pygments_lexer": "ipython3",
   "version": "3.8.2"
  }
 },
 "nbformat": 4,
 "nbformat_minor": 4
}
