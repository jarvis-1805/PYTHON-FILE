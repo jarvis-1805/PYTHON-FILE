{
 "cells": [
  {
   "cell_type": "code",
   "execution_count": 6,
   "metadata": {},
   "outputs": [],
   "source": [
    "class BinaryTreeNode:\n",
    "    def __init__(self, data):\n",
    "        self.data = data\n",
    "        self.left = None\n",
    "        self.right = None"
   ]
  },
  {
   "cell_type": "code",
   "execution_count": 10,
   "metadata": {},
   "outputs": [],
   "source": [
    "def printTree(root):\n",
    "    if root is None:\n",
    "        return\n",
    "    print(root.data)\n",
    "    printTree(root.left)\n",
    "    printTree(root.right)"
   ]
  },
  {
   "cell_type": "code",
   "execution_count": 4,
   "metadata": {},
   "outputs": [],
   "source": [
    "def printDetailedTree(root):\n",
    "    if root is None:\n",
    "        return\n",
    "    print(root.data, end = \":\")\n",
    "    if root.left is not None:\n",
    "        print(\"L\", root.left.data, end=',')\n",
    "    if root.right is not None:\n",
    "        print(\"R\", root.right.data, end='')\n",
    "    print()\n",
    "    printDetailedTree(root.left)\n",
    "    printDetailedTree(root.right)"
   ]
  },
  {
   "cell_type": "code",
   "execution_count": 28,
   "metadata": {},
   "outputs": [],
   "source": [
    "btn1 = BinaryTreeNode(1)\n",
    "btn2 = BinaryTreeNode(2)\n",
    "btn3 = BinaryTreeNode(3)\n",
    "btn4 = BinaryTreeNode(4)\n",
    "btn5 = BinaryTreeNode(5)"
   ]
  },
  {
   "cell_type": "code",
   "execution_count": 29,
   "metadata": {},
   "outputs": [],
   "source": [
    "btn1.left = btn2\n",
    "btn1.right = btn3\n",
    "btn2.left = btn4\n",
    "btn2.right = btn5"
   ]
  },
  {
   "cell_type": "code",
   "execution_count": 30,
   "metadata": {},
   "outputs": [
    {
     "name": "stdout",
     "output_type": "stream",
     "text": [
      "1:L 2,R 3\n",
      "2:L 4,R 5\n",
      "4:\n",
      "5:\n",
      "3:\n"
     ]
    }
   ],
   "source": [
    "printDetailedTree(btn1)"
   ]
  },
  {
   "cell_type": "code",
   "execution_count": 3,
   "metadata": {},
   "outputs": [],
   "source": [
    "def treeInput():\n",
    "    rootData = int(input())\n",
    "    if rootData == -1:\n",
    "        return None\n",
    "    root = BinaryTreeNode(rootData)\n",
    "    leftTree = treeInput()\n",
    "    rightTree = treeInput()\n",
    "    root.left = leftTree\n",
    "    root.right = rightTree\n",
    "    return root"
   ]
  },
  {
   "cell_type": "code",
   "execution_count": 34,
   "metadata": {},
   "outputs": [
    {
     "name": "stdout",
     "output_type": "stream",
     "text": [
      "1\n",
      "2\n",
      "4\n",
      "-1\n",
      "-1\n",
      "5\n",
      "-1\n",
      "-1\n",
      "3\n",
      "-1\n",
      "7\n",
      "-1\n",
      "-1\n",
      "1:L 2,R 3\n",
      "2:L 4,R 5\n",
      "4:\n",
      "5:\n",
      "3:R 7\n",
      "7:\n"
     ]
    }
   ],
   "source": [
    "root = treeInput()\n",
    "printDetailedTree(root)"
   ]
  },
  {
   "cell_type": "code",
   "execution_count": 40,
   "metadata": {},
   "outputs": [],
   "source": [
    "def numNodes(root):\n",
    "    if root == None:\n",
    "        return 0\n",
    "    leftCount = numNodes(root.left)\n",
    "    rightCount = numNodes(root.right)\n",
    "    return 1 + leftCount + rightCount"
   ]
  },
  {
   "cell_type": "code",
   "execution_count": 42,
   "metadata": {},
   "outputs": [
    {
     "name": "stdout",
     "output_type": "stream",
     "text": [
      "1\n",
      "2\n",
      "-1\n",
      "-1\n",
      "3\n",
      "4\n",
      "6\n",
      "-1\n",
      "-1\n",
      "-1\n",
      "5\n",
      "-1\n",
      "-1\n",
      "1:L 2,R 3\n",
      "2:\n",
      "3:L 4,R 5\n",
      "4:L 6,\n",
      "6:\n",
      "5:\n",
      "6\n"
     ]
    }
   ],
   "source": [
    "root = treeInput()\n",
    "printDetailedTree(root)\n",
    "print(numNodes(root))"
   ]
  },
  {
   "cell_type": "code",
   "execution_count": 1,
   "metadata": {},
   "outputs": [],
   "source": [
    "def largestData(root):\n",
    "    if root is None:\n",
    "        return -1\n",
    "    leftLargest = largestData(root.left)\n",
    "    rightLargest = largestData(root.right)\n",
    "    largest = max(leftLargest, rightLargest, root.data)\n",
    "    return largest"
   ]
  },
  {
   "cell_type": "code",
   "execution_count": 7,
   "metadata": {},
   "outputs": [
    {
     "name": "stdout",
     "output_type": "stream",
     "text": [
      "10\n",
      "20\n",
      "5\n",
      "-1\n",
      "-1\n",
      "9\n",
      "-1\n",
      "-1\n",
      "3\n",
      "-1\n",
      "-1\n",
      "10:L 20,R 3\n",
      "20:L 5,R 9\n",
      "5:\n",
      "9:\n",
      "3:\n"
     ]
    },
    {
     "data": {
      "text/plain": [
       "20"
      ]
     },
     "execution_count": 7,
     "metadata": {},
     "output_type": "execute_result"
    }
   ],
   "source": [
    "root = treeInput()\n",
    "printDetailedTree(root)\n",
    "largestData(root)"
   ]
  },
  {
   "cell_type": "code",
   "execution_count": 12,
   "metadata": {},
   "outputs": [],
   "source": [
    "def numOfLeaf(root):\n",
    "    if root is None:\n",
    "        return 0\n",
    "    if root.left is None and root.right is None:\n",
    "        return 1\n",
    "    leftN = numOfLeaf(root.left)\n",
    "    rightN = numOfLeaf(root.right)\n",
    "    return leftN + rightN"
   ]
  },
  {
   "cell_type": "code",
   "execution_count": 13,
   "metadata": {},
   "outputs": [
    {
     "name": "stdout",
     "output_type": "stream",
     "text": [
      "1\n",
      "2\n",
      "-1\n",
      "-1\n",
      "-1\n",
      "1:L 2,\n",
      "2:\n"
     ]
    },
    {
     "data": {
      "text/plain": [
       "1"
      ]
     },
     "execution_count": 13,
     "metadata": {},
     "output_type": "execute_result"
    }
   ],
   "source": [
    "root = treeInput()\n",
    "printDetailedTree(root)\n",
    "numOfLeaf(root)"
   ]
  },
  {
   "cell_type": "code",
   "execution_count": 15,
   "metadata": {},
   "outputs": [],
   "source": [
    "def printDepthK(root, k):\n",
    "    if root is None:\n",
    "        return\n",
    "    if k == 0:\n",
    "        print(root.data)\n",
    "        return\n",
    "    printDepthK(root.left, k-1)\n",
    "    printDepthK(root.right, k-1)"
   ]
  },
  {
   "cell_type": "code",
   "execution_count": 17,
   "metadata": {},
   "outputs": [
    {
     "name": "stdout",
     "output_type": "stream",
     "text": [
      "1\n",
      "2\n",
      "4\n",
      "-1\n",
      "-1\n",
      "5\n",
      "-1\n",
      "-1\n",
      "3\n",
      "6\n",
      "-1\n",
      "-1\n",
      "-1\n",
      "1:L 2,R 3\n",
      "2:L 4,R 5\n",
      "4:\n",
      "5:\n",
      "3:L 6,\n",
      "6:\n",
      "4\n",
      "5\n",
      "6\n"
     ]
    }
   ],
   "source": [
    "root = treeInput()\n",
    "printDetailedTree(root)\n",
    "printDepthK(root, 2)"
   ]
  },
  {
   "cell_type": "code",
   "execution_count": 18,
   "metadata": {},
   "outputs": [],
   "source": [
    "def printDepthKV2(root, k, d = 0):\n",
    "    if root is None:\n",
    "        return\n",
    "    if k == d:\n",
    "        print(root.data)\n",
    "        return\n",
    "    printDepthKV2(root.left, k, d + 1)\n",
    "    printDepthKV2(root.right, k, d + 1)"
   ]
  },
  {
   "cell_type": "code",
   "execution_count": 19,
   "metadata": {},
   "outputs": [
    {
     "name": "stdout",
     "output_type": "stream",
     "text": [
      "1\n",
      "2\n",
      "4\n",
      "-1\n",
      "-1\n",
      "5\n",
      "-1\n",
      "-1\n",
      "3\n",
      "6\n",
      "-1\n",
      "-1\n",
      "-1\n",
      "1:L 2,R 3\n",
      "2:L 4,R 5\n",
      "4:\n",
      "5:\n",
      "3:L 6,\n",
      "6:\n",
      "4\n",
      "5\n",
      "6\n"
     ]
    }
   ],
   "source": [
    "root = treeInput()\n",
    "printDetailedTree(root)\n",
    "printDepthKV2(root, 2)"
   ]
  },
  {
   "cell_type": "code",
   "execution_count": null,
   "metadata": {},
   "outputs": [],
   "source": []
  }
 ],
 "metadata": {
  "kernelspec": {
   "display_name": "Python 3",
   "language": "python",
   "name": "python3"
  },
  "language_info": {
   "codemirror_mode": {
    "name": "ipython",
    "version": 3
   },
   "file_extension": ".py",
   "mimetype": "text/x-python",
   "name": "python",
   "nbconvert_exporter": "python",
   "pygments_lexer": "ipython3",
   "version": "3.8.2"
  }
 },
 "nbformat": 4,
 "nbformat_minor": 4
}
