{
 "cells": [
  {
   "cell_type": "markdown",
   "metadata": {},
   "source": [
    "# Search Node In BST"
   ]
  },
  {
   "cell_type": "code",
   "execution_count": 3,
   "metadata": {},
   "outputs": [],
   "source": [
    "class BinaryTreeNode:\n",
    "    def __init__(self, data):\n",
    "        self.data = data\n",
    "        self.left = None\n",
    "        self.right = None"
   ]
  },
  {
   "cell_type": "code",
   "execution_count": 4,
   "metadata": {},
   "outputs": [],
   "source": [
    "def printDetailedTree(root):\n",
    "    if root is None:\n",
    "        return\n",
    "    print(root.data, end = \":\")\n",
    "    if root.left is not None:\n",
    "        print(\"L\", root.left.data, end=',')\n",
    "    if root.right is not None:\n",
    "        print(\"R\", root.right.data, end='')\n",
    "    print()\n",
    "    printDetailedTree(root.left)\n",
    "    printDetailedTree(root.right)"
   ]
  },
  {
   "cell_type": "code",
   "execution_count": 5,
   "metadata": {},
   "outputs": [],
   "source": [
    "import queue\n",
    "def takeLevelWiseInput():\n",
    "    q = queue.Queue()\n",
    "    print(\"Enter root: \")\n",
    "    rootData = int(input())\n",
    "    if rootData == -1:\n",
    "        return None\n",
    "    root = BinaryTreeNode(rootData)\n",
    "    q.put(root)\n",
    "    while not(q.empty()):\n",
    "        currentNode = q.get()\n",
    "        print('Enter left child of ', currentNode.data)\n",
    "        leftChildData = int(input())\n",
    "        if leftChildData != -1:\n",
    "            leftChild = BinaryTreeNode(leftChildData)\n",
    "            currentNode.left = leftChild\n",
    "            q.put(leftChild)\n",
    "            \n",
    "        print('Enter right child of ', currentNode.data)\n",
    "        rightChildData = int(input())\n",
    "        if rightChildData != -1:\n",
    "            rightChild = BinaryTreeNode(rightChildData)\n",
    "            currentNode.right = rightChild\n",
    "            q.put(rightChild)\n",
    "        \n",
    "    return root"
   ]
  },
  {
   "cell_type": "code",
   "execution_count": 14,
   "metadata": {},
   "outputs": [],
   "source": [
    "def search(root, x):\n",
    "    if root is None:\n",
    "        return False\n",
    "    if root.data == x:\n",
    "        return True\n",
    "    elif root.data > x:\n",
    "        return search(root.left, x)\n",
    "    else:\n",
    "        return search(root.right, x)"
   ]
  },
  {
   "cell_type": "code",
   "execution_count": 16,
   "metadata": {},
   "outputs": [
    {
     "name": "stdout",
     "output_type": "stream",
     "text": [
      "Enter root: \n",
      "4\n",
      "Enter left child of  4\n",
      "2\n",
      "Enter right child of  4\n",
      "6\n",
      "Enter left child of  2\n",
      "1\n",
      "Enter right child of  2\n",
      "3\n",
      "Enter left child of  6\n",
      "5\n",
      "Enter right child of  6\n",
      "7\n",
      "Enter left child of  1\n",
      "-1\n",
      "Enter right child of  1\n",
      "-1\n",
      "Enter left child of  3\n",
      "-1\n",
      "Enter right child of  3\n",
      "-1\n",
      "Enter left child of  5\n",
      "-1\n",
      "Enter right child of  5\n",
      "-1\n",
      "Enter left child of  7\n",
      "-1\n",
      "Enter right child of  7\n",
      "-1\n",
      "4:L 2,R 6\n",
      "2:L 1,R 3\n",
      "1:\n",
      "3:\n",
      "6:L 5,R 7\n",
      "5:\n",
      "7:\n"
     ]
    },
    {
     "data": {
      "text/plain": [
       "True"
      ]
     },
     "execution_count": 16,
     "metadata": {},
     "output_type": "execute_result"
    }
   ],
   "source": [
    "root = takeLevelWiseInput()\n",
    "printDetailedTree(root)\n",
    "search(root, 5)"
   ]
  },
  {
   "cell_type": "markdown",
   "metadata": {},
   "source": [
    "# Elements Between K1 and K2"
   ]
  },
  {
   "cell_type": "code",
   "execution_count": 6,
   "metadata": {},
   "outputs": [],
   "source": [
    "def printBetweenK1K2(root, k1, k2):\n",
    "    if root is None:\n",
    "        return\n",
    "    if root.data > k2:\n",
    "        printBetweenK1K2(root.left, k1, k2)\n",
    "    elif root.data < k1:\n",
    "        printBetweenK1K2(root.right, k1, k2)\n",
    "    else:\n",
    "        print(root.data)\n",
    "        printBetweenK1K2(root.left, k1, k2)\n",
    "        printBetweenK1K2(root.right, k1, k2)"
   ]
  },
  {
   "cell_type": "code",
   "execution_count": 20,
   "metadata": {},
   "outputs": [
    {
     "name": "stdout",
     "output_type": "stream",
     "text": [
      "Enter root: \n",
      "4\n",
      "Enter left child of  4\n",
      "2\n",
      "Enter right child of  4\n",
      "10\n",
      "Enter left child of  2\n",
      "1\n",
      "Enter right child of  2\n",
      "3\n",
      "Enter left child of  10\n",
      "7\n",
      "Enter right child of  10\n",
      "12\n",
      "Enter left child of  1\n",
      "-1\n",
      "Enter right child of  1\n",
      "-1\n",
      "Enter left child of  3\n",
      "-1\n",
      "Enter right child of  3\n",
      "-1\n",
      "Enter left child of  7\n",
      "5\n",
      "Enter right child of  7\n",
      "6\n",
      "Enter left child of  12\n",
      "11\n",
      "Enter right child of  12\n",
      "18\n",
      "Enter left child of  5\n",
      "-1\n",
      "Enter right child of  5\n",
      "-1\n",
      "Enter left child of  6\n",
      "-1\n",
      "Enter right child of  6\n",
      "-1\n",
      "Enter left child of  11\n",
      "-1\n",
      "Enter right child of  11\n",
      "-1\n",
      "Enter left child of  18\n",
      "-1\n",
      "Enter right child of  18\n",
      "-1\n",
      "4:L 2,R 10\n",
      "2:L 1,R 3\n",
      "1:\n",
      "3:\n",
      "10:L 7,R 12\n",
      "7:L 5,R 6\n",
      "5:\n",
      "6:\n",
      "12:L 11,R 18\n",
      "11:\n",
      "18:\n",
      "10\n",
      "7\n",
      "5\n",
      "6\n"
     ]
    }
   ],
   "source": [
    "root = takeLevelWiseInput()\n",
    "printDetailedTree(root)\n",
    "printBetweenK1K2(root, 5, 10)"
   ]
  },
  {
   "cell_type": "markdown",
   "metadata": {},
   "source": [
    "# Check Is BST?"
   ]
  },
  {
   "cell_type": "code",
   "execution_count": 11,
   "metadata": {},
   "outputs": [],
   "source": [
    "def minTree(root):\n",
    "    if root is None:\n",
    "        return 100000\n",
    "    leftMin = minTree(root.left)\n",
    "    rightMin = minTree(root.right)\n",
    "    return min(leftMin, rightMin, root.data)"
   ]
  },
  {
   "cell_type": "code",
   "execution_count": 12,
   "metadata": {},
   "outputs": [],
   "source": [
    "def maxTree(root):\n",
    "    if root is None:\n",
    "        return -100000\n",
    "    leftMax = maxTree(root.left)\n",
    "    rightMax = maxTree(root.right)\n",
    "    return max(leftMax, rightMax, root.data)"
   ]
  },
  {
   "cell_type": "code",
   "execution_count": 17,
   "metadata": {},
   "outputs": [],
   "source": [
    "def isBST(root):\n",
    "    if root is None:\n",
    "        return True\n",
    "    leftMax = maxTree(root.left)\n",
    "    rightMin = minTree(root.right)\n",
    "    if root.data > rightMin or root.data <= leftMax:\n",
    "        return False\n",
    "    isleftBst = isBST(root.left)\n",
    "    isrightBst = isBST(root.right)\n",
    "    return isleftBst and isrightBst"
   ]
  },
  {
   "cell_type": "code",
   "execution_count": 18,
   "metadata": {},
   "outputs": [
    {
     "name": "stdout",
     "output_type": "stream",
     "text": [
      "Enter root: \n",
      "4\n",
      "Enter left child of  4\n",
      "2\n",
      "Enter right child of  4\n",
      "6\n",
      "Enter left child of  2\n",
      "1\n",
      "Enter right child of  2\n",
      "3\n",
      "Enter left child of  6\n",
      "5\n",
      "Enter right child of  6\n",
      "7\n",
      "Enter left child of  1\n",
      "-1\n",
      "Enter right child of  1\n",
      "-1\n",
      "Enter left child of  3\n",
      "-1\n",
      "Enter right child of  3\n",
      "-1\n",
      "Enter left child of  5\n",
      "-1\n",
      "Enter right child of  5\n",
      "-1\n",
      "Enter left child of  7\n",
      "-1\n",
      "Enter right child of  7\n",
      "-1\n",
      "4:L 2,R 6\n",
      "2:L 1,R 3\n",
      "1:\n",
      "3:\n",
      "6:L 5,R 7\n",
      "5:\n",
      "7:\n"
     ]
    },
    {
     "data": {
      "text/plain": [
       "True"
      ]
     },
     "execution_count": 18,
     "metadata": {},
     "output_type": "execute_result"
    }
   ],
   "source": [
    "root = takeLevelWiseInput()\n",
    "printDetailedTree(root)\n",
    "isBST(root)"
   ]
  },
  {
   "cell_type": "code",
   "execution_count": 19,
   "metadata": {},
   "outputs": [
    {
     "name": "stdout",
     "output_type": "stream",
     "text": [
      "Enter root: \n",
      "4\n",
      "Enter left child of  4\n",
      "2\n",
      "Enter right child of  4\n",
      "6\n",
      "Enter left child of  2\n",
      "1\n",
      "Enter right child of  2\n",
      "10\n",
      "Enter left child of  6\n",
      "5\n",
      "Enter right child of  6\n",
      "7\n",
      "Enter left child of  1\n",
      "-1\n",
      "Enter right child of  1\n",
      "-1\n",
      "Enter left child of  10\n",
      "-1\n",
      "Enter right child of  10\n",
      "-1\n",
      "Enter left child of  5\n",
      "-1\n",
      "Enter right child of  5\n",
      "-1\n",
      "Enter left child of  7\n",
      "-1\n",
      "Enter right child of  7\n",
      "-1\n",
      "4:L 2,R 6\n",
      "2:L 1,R 10\n",
      "1:\n",
      "10:\n",
      "6:L 5,R 7\n",
      "5:\n",
      "7:\n"
     ]
    },
    {
     "data": {
      "text/plain": [
       "False"
      ]
     },
     "execution_count": 19,
     "metadata": {},
     "output_type": "execute_result"
    }
   ],
   "source": [
    "root = takeLevelWiseInput()\n",
    "printDetailedTree(root)\n",
    "isBST(root)"
   ]
  },
  {
   "cell_type": "markdown",
   "metadata": {},
   "source": [
    "# Improved Solution For Check BST?"
   ]
  },
  {
   "cell_type": "code",
   "execution_count": 24,
   "metadata": {},
   "outputs": [],
   "source": [
    "def isBst2(root):\n",
    "    if root is None:\n",
    "        return 100000, -100000, True\n",
    "    leftMin, leftMax, isleftBst = isBst2(root.left)\n",
    "    rightMin, rightMax, isrightBst = isBst2(root.right)\n",
    "    \n",
    "    minim = min(leftMin, rightMin, root.data)\n",
    "    maxim = max(leftMax, rightMax, root.data)\n",
    "    isTreeBst = True\n",
    "    if root.data <= leftMax or root.data > rightMin:\n",
    "        isTreeBst = False\n",
    "    if not isleftBst or not isrightBst:\n",
    "        isTreeBst = False\n",
    "    \n",
    "    return minim, maxim, isTreeBst"
   ]
  },
  {
   "cell_type": "code",
   "execution_count": 26,
   "metadata": {},
   "outputs": [
    {
     "name": "stdout",
     "output_type": "stream",
     "text": [
      "Enter root: \n",
      "4\n",
      "Enter left child of  4\n",
      "2\n",
      "Enter right child of  4\n",
      "6\n",
      "Enter left child of  2\n",
      "1\n",
      "Enter right child of  2\n",
      "3\n",
      "Enter left child of  6\n",
      "5\n",
      "Enter right child of  6\n",
      "7\n",
      "Enter left child of  1\n",
      "-1\n",
      "Enter right child of  1\n",
      "-1\n",
      "Enter left child of  3\n",
      "-1\n",
      "Enter right child of  3\n",
      "-1\n",
      "Enter left child of  5\n",
      "-1\n",
      "Enter right child of  5\n",
      "-1\n",
      "Enter left child of  7\n",
      "-1\n",
      "Enter right child of  7\n",
      "-1\n",
      "4:L 2,R 6\n",
      "2:L 1,R 3\n",
      "1:\n",
      "3:\n",
      "6:L 5,R 7\n",
      "5:\n",
      "7:\n"
     ]
    },
    {
     "data": {
      "text/plain": [
       "(1, 7, True)"
      ]
     },
     "execution_count": 26,
     "metadata": {},
     "output_type": "execute_result"
    }
   ],
   "source": [
    "root = takeLevelWiseInput()\n",
    "printDetailedTree(root)\n",
    "isBst2(root)"
   ]
  },
  {
   "cell_type": "code",
   "execution_count": 27,
   "metadata": {},
   "outputs": [
    {
     "name": "stdout",
     "output_type": "stream",
     "text": [
      "Enter root: \n",
      "4\n",
      "Enter left child of  4\n",
      "2\n",
      "Enter right child of  4\n",
      "6\n",
      "Enter left child of  2\n",
      "1\n",
      "Enter right child of  2\n",
      "30\n",
      "Enter left child of  6\n",
      "5\n",
      "Enter right child of  6\n",
      "7\n",
      "Enter left child of  1\n",
      "-1\n",
      "Enter right child of  1\n",
      "-1\n",
      "Enter left child of  30\n",
      "-1\n",
      "Enter right child of  30\n",
      "-1\n",
      "Enter left child of  5\n",
      "-1\n",
      "Enter right child of  5\n",
      "-1\n",
      "Enter left child of  7\n",
      "-1\n",
      "Enter right child of  7\n",
      "-1\n",
      "4:L 2,R 6\n",
      "2:L 1,R 30\n",
      "1:\n",
      "30:\n",
      "6:L 5,R 7\n",
      "5:\n",
      "7:\n"
     ]
    },
    {
     "data": {
      "text/plain": [
       "(1, 30, False)"
      ]
     },
     "execution_count": 27,
     "metadata": {},
     "output_type": "execute_result"
    }
   ],
   "source": [
    "root = takeLevelWiseInput()\n",
    "printDetailedTree(root)\n",
    "isBst2(root)"
   ]
  },
  {
   "cell_type": "markdown",
   "metadata": {},
   "source": [
    "# Another Solution For Check BST?"
   ]
  },
  {
   "cell_type": "code",
   "execution_count": 32,
   "metadata": {},
   "outputs": [],
   "source": [
    "def isBst3(root, minRange, maxRange):\n",
    "    if root is None:\n",
    "        return True\n",
    "    if root.data < minRange or root.data > maxRange:\n",
    "        return False\n",
    "    \n",
    "    isleftWithinConstraints = isBst3(root.left, minRange, root.data - 1)\n",
    "    isrightWithinConstraints = isBst3(root.right, root.data, maxRange)\n",
    "    \n",
    "    return isleftWithinConstraints and isrightWithinConstraints"
   ]
  },
  {
   "cell_type": "code",
   "execution_count": 34,
   "metadata": {},
   "outputs": [
    {
     "name": "stdout",
     "output_type": "stream",
     "text": [
      "Enter root: \n",
      "4\n",
      "Enter left child of  4\n",
      "2\n",
      "Enter right child of  4\n",
      "6\n",
      "Enter left child of  2\n",
      "1\n",
      "Enter right child of  2\n",
      "30\n",
      "Enter left child of  6\n",
      "5\n",
      "Enter right child of  6\n",
      "7\n",
      "Enter left child of  1\n",
      "-1\n",
      "Enter right child of  1\n",
      "-1\n",
      "Enter left child of  30\n",
      "-1\n",
      "Enter right child of  30\n",
      "-1\n",
      "Enter left child of  5\n",
      "-1\n",
      "Enter right child of  5\n",
      "-1\n",
      "Enter left child of  7\n",
      "-1\n",
      "Enter right child of  7\n",
      "-1\n",
      "4:L 2,R 6\n",
      "2:L 1,R 30\n",
      "1:\n",
      "30:\n",
      "6:L 5,R 7\n",
      "5:\n",
      "7:\n"
     ]
    },
    {
     "data": {
      "text/plain": [
       "False"
      ]
     },
     "execution_count": 34,
     "metadata": {},
     "output_type": "execute_result"
    }
   ],
   "source": [
    "root = takeLevelWiseInput()\n",
    "printDetailedTree(root)\n",
    "isBst3(root, -10000, 10000)"
   ]
  },
  {
   "cell_type": "code",
   "execution_count": 35,
   "metadata": {},
   "outputs": [
    {
     "name": "stdout",
     "output_type": "stream",
     "text": [
      "Enter root: \n",
      "4\n",
      "Enter left child of  4\n",
      "2\n",
      "Enter right child of  4\n",
      "6\n",
      "Enter left child of  2\n",
      "1\n",
      "Enter right child of  2\n",
      "3\n",
      "Enter left child of  6\n",
      "5\n",
      "Enter right child of  6\n",
      "7\n",
      "Enter left child of  1\n",
      "-1\n",
      "Enter right child of  1\n",
      "-1\n",
      "Enter left child of  3\n",
      "-1\n",
      "Enter right child of  3\n",
      "-1\n",
      "Enter left child of  5\n",
      "-1\n",
      "Enter right child of  5\n",
      "-1\n",
      "Enter left child of  7\n",
      "-1\n",
      "Enter right child of  7\n",
      "-1\n",
      "4:L 2,R 6\n",
      "2:L 1,R 3\n",
      "1:\n",
      "3:\n",
      "6:L 5,R 7\n",
      "5:\n",
      "7:\n"
     ]
    },
    {
     "data": {
      "text/plain": [
       "True"
      ]
     },
     "execution_count": 35,
     "metadata": {},
     "output_type": "execute_result"
    }
   ],
   "source": [
    "root = takeLevelWiseInput()\n",
    "printDetailedTree(root)\n",
    "isBst3(root, -10000, 10000)"
   ]
  },
  {
   "cell_type": "markdown",
   "metadata": {},
   "source": [
    "# Find Path in BST"
   ]
  },
  {
   "cell_type": "code",
   "execution_count": 2,
   "metadata": {},
   "outputs": [],
   "source": [
    "def nodeToRootPath(root, data):\n",
    "    if root is None:\n",
    "        return None\n",
    "    if root.data == data:\n",
    "        l = list()\n",
    "        l.append(root.data)\n",
    "        return l\n",
    "    \n",
    "    leftOutput = nodeToRootPath(root.left, data)\n",
    "    if leftOutput is not None:\n",
    "        leftOutput.append(root.data)\n",
    "        return leftOutput\n",
    "    \n",
    "    rightOutput = nodeToRootPath(root.right, data)\n",
    "    if rightOutput is not None:\n",
    "        rightOutput.append(root.data)\n",
    "        return rightOutput\n",
    "    \n",
    "    return None"
   ]
  },
  {
   "cell_type": "code",
   "execution_count": 6,
   "metadata": {},
   "outputs": [
    {
     "name": "stdout",
     "output_type": "stream",
     "text": [
      "Enter root: \n",
      "1\n",
      "Enter left child of  1\n",
      "2\n",
      "Enter right child of  1\n",
      "3\n",
      "Enter left child of  2\n",
      "-1\n",
      "Enter right child of  2\n",
      "-1\n",
      "Enter left child of  3\n",
      "4\n",
      "Enter right child of  3\n",
      "6\n",
      "Enter left child of  4\n",
      "-1\n",
      "Enter right child of  4\n",
      "-1\n",
      "Enter left child of  6\n",
      "5\n",
      "Enter right child of  6\n",
      "9\n",
      "Enter left child of  5\n",
      "7\n",
      "Enter right child of  5\n",
      "8\n",
      "Enter left child of  9\n",
      "-1\n",
      "Enter right child of  9\n",
      "-1\n",
      "Enter left child of  7\n",
      "-1\n",
      "Enter right child of  7\n",
      "-1\n",
      "Enter left child of  8\n",
      "-1\n",
      "Enter right child of  8\n",
      "-1\n",
      "1:L 2,R 3\n",
      "2:\n",
      "3:L 4,R 6\n",
      "4:\n",
      "6:L 5,R 9\n",
      "5:L 7,R 8\n",
      "7:\n",
      "8:\n",
      "9:\n"
     ]
    },
    {
     "data": {
      "text/plain": [
       "[5, 6, 3, 1]"
      ]
     },
     "execution_count": 6,
     "metadata": {},
     "output_type": "execute_result"
    }
   ],
   "source": [
    "root = takeLevelWiseInput()\n",
    "printDetailedTree(root)\n",
    "nodeToRootPath(root, 5)"
   ]
  },
  {
   "cell_type": "markdown",
   "metadata": {},
   "source": [
    "# BST Class"
   ]
  },
  {
   "cell_type": "code",
   "execution_count": 12,
   "metadata": {},
   "outputs": [],
   "source": [
    "class BST:\n",
    "    def __init__(self):\n",
    "        self.root = None\n",
    "        self.numNodes = 0\n",
    "    \n",
    "    def printTreeHelper(self, root):\n",
    "        if root is None:\n",
    "            return\n",
    "        \n",
    "        print(root.data, end = \":\")\n",
    "        \n",
    "        if root.left is not None:\n",
    "            print(\"L\", root.left.data, end=',')\n",
    "        \n",
    "        if root.right is not None:\n",
    "            print(\"R\", root.right.data, end='')\n",
    "        print()\n",
    "        \n",
    "        self.printTreeHelper(root.left)\n",
    "        self.printTreeHelper(root.right)\n",
    "    \n",
    "    def printTree(self):\n",
    "        self.printTreeHelper(self.root)\n",
    "    \n",
    "    def isPresentHelper(self, root, data):\n",
    "        if root is None:\n",
    "            return False\n",
    "        \n",
    "        if root.data == data:\n",
    "            return True\n",
    "        \n",
    "        if root.data > data:\n",
    "            #call on left\n",
    "            return self.isPresentHelper(root.left, data)\n",
    "        else:\n",
    "            #call on right\n",
    "            return self.isPresentHelper(root.right, data)\n",
    "    \n",
    "    def isPresent(self, data):\n",
    "        return self.isPresentHelper(self.root, data)\n",
    "    \n",
    "    def insertHelper(self, root, data):\n",
    "        if root is None:\n",
    "            node = BinaryTreeNode(data)\n",
    "            return node\n",
    "        \n",
    "        if root.data > data:\n",
    "            root.left = self.insertHelper(root.left, data)\n",
    "            return root\n",
    "        else:\n",
    "            root.right = self.insertHelper(root.right, data)\n",
    "            return root\n",
    "    \n",
    "    def insert(self, data):\n",
    "        self.numNodes += 1\n",
    "        self.root = self.insertHelper(self.root, data)\n",
    "    \n",
    "    def min(self, root):\n",
    "        if root is None:\n",
    "            return 10000\n",
    "        \n",
    "        if root.left is None:\n",
    "            return root.data\n",
    "        \n",
    "        return self.min(root.left)\n",
    "    \n",
    "    def deleteDataHelper(self, root, data):\n",
    "        if root is None:\n",
    "            return False, None\n",
    "        \n",
    "        if root.data < data:\n",
    "            deleted, newRightNode = self.deleteDataHelper(root.right, data)\n",
    "            root.right = newRightNode\n",
    "            return deleted, root\n",
    "        \n",
    "        if root.data > data:\n",
    "            deleted, newLeftNode = self.deleteDataHelper(root.left, data)\n",
    "            root.left = newLeftNode\n",
    "            return deleted, root\n",
    "        \n",
    "        #root is leaf\n",
    "        if root.left is None and root.right is None:\n",
    "            return True, None\n",
    "        \n",
    "        #root has one child\n",
    "        if root.left is None:\n",
    "            return True, root.right\n",
    "        \n",
    "        if root.right is None:\n",
    "            return True, root.left\n",
    "        \n",
    "        #root has two children\n",
    "        replacement = self.min(root.right)\n",
    "        root.data = replacement\n",
    "        deleted, newRightNode = self.deleteDataHelper(root.right, replacement)\n",
    "        root.right = newRightNode\n",
    "        return True, root\n",
    "    \n",
    "    def deleteData(self, data):\n",
    "        deleted, newRoot = self.deleteDataHelper(self.root, data)\n",
    "        if deleted:\n",
    "            self.numNodes -= 1\n",
    "        self.root = newRoot\n",
    "        return deleted\n",
    "    \n",
    "    def count(self):\n",
    "        return self.numNodes"
   ]
  },
  {
   "cell_type": "code",
   "execution_count": 14,
   "metadata": {},
   "outputs": [
    {
     "name": "stdout",
     "output_type": "stream",
     "text": [
      "True\n",
      "False\n",
      "False\n",
      "True\n",
      "2\n",
      "12:L 5,\n",
      "5:\n"
     ]
    }
   ],
   "source": [
    "b = BST()\n",
    "b.insert(10)\n",
    "b.insert(5)\n",
    "b.insert(12)\n",
    "print(b.isPresent(10))\n",
    "print(b.isPresent(7))\n",
    "print(b.deleteData(4))\n",
    "print(b.deleteData(10))\n",
    "print(b.count())\n",
    "b.printTree()"
   ]
  },
  {
   "cell_type": "code",
   "execution_count": 19,
   "metadata": {},
   "outputs": [
    {
     "name": "stdout",
     "output_type": "stream",
     "text": [
      "10:L 5,R 12\n",
      "5:R 7\n",
      "7:L 6,R 8\n",
      "6:\n",
      "8:\n",
      "12:L 11,R 15\n",
      "11:\n",
      "15:\n",
      "8\n",
      "11:L 5,R 12\n",
      "5:R 7\n",
      "7:L 6,R 8\n",
      "6:\n",
      "8:\n",
      "12:R 15\n",
      "15:\n"
     ]
    }
   ],
   "source": [
    "b1 = BST()\n",
    "b1.insert(10)\n",
    "b1.insert(5)\n",
    "b1.insert(7)\n",
    "b1.insert(6)\n",
    "b1.insert(8)\n",
    "b1.insert(12)\n",
    "b1.insert(11)\n",
    "b1.insert(15)\n",
    "b1.printTree()\n",
    "print(b1.count())\n",
    "b1.deleteData(10)\n",
    "b1.printTree()"
   ]
  },
  {
   "cell_type": "code",
   "execution_count": null,
   "metadata": {},
   "outputs": [],
   "source": []
  }
 ],
 "metadata": {
  "kernelspec": {
   "display_name": "Python 3",
   "language": "python",
   "name": "python3"
  },
  "language_info": {
   "codemirror_mode": {
    "name": "ipython",
    "version": 3
   },
   "file_extension": ".py",
   "mimetype": "text/x-python",
   "name": "python",
   "nbconvert_exporter": "python",
   "pygments_lexer": "ipython3",
   "version": "3.8.2"
  }
 },
 "nbformat": 4,
 "nbformat_minor": 4
}
