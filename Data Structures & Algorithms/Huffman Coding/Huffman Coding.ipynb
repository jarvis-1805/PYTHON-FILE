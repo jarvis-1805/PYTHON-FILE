{
 "cells": [
  {
   "cell_type": "code",
   "execution_count": null,
   "metadata": {},
   "outputs": [],
   "source": [
    "import heapq\n",
    "\n",
    "class HuffmanCoding:\n",
    "    \n",
    "    def __init__(self, path):\n",
    "        self.path = path\n",
    "        self.__heap = []\n",
    "    \n",
    "    def __make_frequency_dict(self, text):\n",
    "        freq_dict = {}\n",
    "        for char in text:\n",
    "            if char not in freq_dict:\n",
    "                freq_dict[char] = 0\n",
    "            freq_dict[char] += 1\n",
    "            \n",
    "        return freq_dict\n",
    "    \n",
    "    def __buildHeap(self, freq_dict):\n",
    "        \n",
    "    \n",
    "    def compress(self):\n",
    "        # Get file from path\n",
    "        # Read the text from file\n",
    "        text = \"kldfjalkjhjkgjhfgdrt\"\n",
    "        \n",
    "        # Make frequency dictionary using the text\n",
    "        freq_dict = self.__make_frequency_dict(text)\n",
    "        self.__buildHeap(freq_dict)\n",
    "        \n",
    "        # Construct the heap from the frequency_dict\n",
    "        \n",
    "        # Construct the binary tree from the heap\n",
    "        \n",
    "        # Construct the codes from binary tree\n",
    "        \n",
    "        # Creating the encoded text using the code\n",
    "        \n",
    "        # Put encoded text into the binary file\n",
    "        \n",
    "        # Return this binary file as output"
   ]
  }
 ],
 "metadata": {
  "kernelspec": {
   "display_name": "Python 3",
   "language": "python",
   "name": "python3"
  },
  "language_info": {
   "codemirror_mode": {
    "name": "ipython",
    "version": 3
   },
   "file_extension": ".py",
   "mimetype": "text/x-python",
   "name": "python",
   "nbconvert_exporter": "python",
   "pygments_lexer": "ipython3",
   "version": "3.8.2"
  }
 },
 "nbformat": 4,
 "nbformat_minor": 4
}
