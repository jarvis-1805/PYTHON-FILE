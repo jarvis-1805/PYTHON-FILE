{
 "cells": [
  {
   "cell_type": "markdown",
   "metadata": {},
   "source": [
    "# Geometric Sum\n",
    "\n",
    "1 + 1/2 + 1/4 + 1/8 + ... + 1/(2^k) "
   ]
  },
  {
   "cell_type": "code",
   "execution_count": 5,
   "metadata": {},
   "outputs": [
    {
     "name": "stdout",
     "output_type": "stream",
     "text": [
      "1.87500\n"
     ]
    }
   ],
   "source": [
    "def geoSum(k):\n",
    "    if k < 0:\n",
    "        return 0\n",
    "    return geoSum(k - 1) + 1/(2**k)\n",
    "\n",
    "print(format(geoSum(3), '.5f'))"
   ]
  },
  {
   "cell_type": "markdown",
   "metadata": {},
   "source": [
    "# Check Palindrome (recursive)"
   ]
  },
  {
   "cell_type": "code",
   "execution_count": 17,
   "metadata": {},
   "outputs": [
    {
     "name": "stdout",
     "output_type": "stream",
     "text": [
      "true\n"
     ]
    }
   ],
   "source": [
    "def check(s, si, ei):\n",
    "    if si > ei:\n",
    "        return True\n",
    "    if s[si] == s[ei]:\n",
    "        return check(s, si+1, ei-1)\n",
    "    else:\n",
    "        return False\n",
    "\n",
    "def palinCheck(s):\n",
    "    if len(s) == 0 or len(s) == 1:\n",
    "        return True\n",
    "    \n",
    "    if check(s, 0, len(s)-1):\n",
    "        return 'true'\n",
    "    else:\n",
    "        return 'false'\n",
    "\n",
    "print(palinCheck('racecar'))"
   ]
  },
  {
   "cell_type": "markdown",
   "metadata": {},
   "source": [
    "# Sum of digits (recursive)"
   ]
  },
  {
   "cell_type": "code",
   "execution_count": 20,
   "metadata": {},
   "outputs": [
    {
     "name": "stdout",
     "output_type": "stream",
     "text": [
      "10\n"
     ]
    }
   ],
   "source": [
    "def sumDigits(n):\n",
    "    if n >= 0 and n <= 9:\n",
    "        return n\n",
    "    \n",
    "    return (n%10) + sumDigits(n//10)\n",
    "\n",
    "print(sumDigits(1234))"
   ]
  },
  {
   "cell_type": "markdown",
   "metadata": {},
   "source": [
    "# Multiplication (Recursive)\n",
    "\n",
    "Given two integers M & N, calculate and return their multiplication using recursion. You can only use subtraction and addition for your calculation. No other operators are allowed."
   ]
  },
  {
   "cell_type": "code",
   "execution_count": 21,
   "metadata": {},
   "outputs": [
    {
     "name": "stdout",
     "output_type": "stream",
     "text": [
      "6\n"
     ]
    }
   ],
   "source": [
    "def multiply(m, n):\n",
    "    if m == 0 or n == 0:\n",
    "        return 0\n",
    "    \n",
    "    if n > 0:\n",
    "        return m + multiply(m, n-1)\n",
    "\n",
    "print(multiply(3, 2))"
   ]
  },
  {
   "cell_type": "code",
   "execution_count": 22,
   "metadata": {},
   "outputs": [
    {
     "name": "stdout",
     "output_type": "stream",
     "text": [
      "3\n",
      "5\n",
      "15\n"
     ]
    }
   ],
   "source": [
    "def product( x , y ):\n",
    "    if x < y: \n",
    "        return product(y, x)\n",
    "    elif y != 0: \n",
    "        return (x + product(x, y - 1))\n",
    "    else: \n",
    "        return 0\n",
    "\n",
    "m = int(input())\n",
    "n = int(input())\n",
    "x = product(m, n)\n",
    "print(x)"
   ]
  },
  {
   "cell_type": "markdown",
   "metadata": {},
   "source": [
    "# Count Zeros"
   ]
  },
  {
   "cell_type": "code",
   "execution_count": 22,
   "metadata": {},
   "outputs": [
    {
     "name": "stdout",
     "output_type": "stream",
     "text": [
      "100200\n",
      "4\n"
     ]
    }
   ],
   "source": [
    "def countZeros(n):\n",
    "    if n == 0:\n",
    "        return 0\n",
    "    if n%10 == 0:\n",
    "        return 1 + countZeros(n//10)\n",
    "    else:\n",
    "        return countZeros(n//10)\n",
    "\n",
    "n = int(input())\n",
    "if n == 0:\n",
    "    print('0')\n",
    "else:\n",
    "    print(countZeros(n))"
   ]
  },
  {
   "cell_type": "markdown",
   "metadata": {},
   "source": [
    "# String to Integer"
   ]
  },
  {
   "cell_type": "code",
   "execution_count": 37,
   "metadata": {},
   "outputs": [
    {
     "name": "stdout",
     "output_type": "stream",
     "text": [
      "0012350\n",
      "12350\n"
     ]
    }
   ],
   "source": [
    "def strToInt(str):\n",
    "    if (len(str) == 1): \n",
    "        return ord(str[0]) - ord('0');\n",
    "    y = strToInt(str[1:]); \n",
    "    x = ord(str[0]) - ord('0');\n",
    "    x = x * (10**(len(str) - 1)) + y; \n",
    "    return int(x); \n",
    "    \n",
    "s = input()\n",
    "print(strToInt(s))"
   ]
  },
  {
   "cell_type": "markdown",
   "metadata": {},
   "source": [
    "# Pair star\n",
    "\n",
    "Given a string S, compute recursively a new string where identical chars that are adjacent in the original string are separated from each other by a \"*\"."
   ]
  },
  {
   "cell_type": "code",
   "execution_count": 46,
   "metadata": {},
   "outputs": [
    {
     "name": "stdout",
     "output_type": "stream",
     "text": [
      "aaaa\n",
      "a*a*a*a\n"
     ]
    }
   ],
   "source": [
    "def pairStar(s):\n",
    "    if len(s) == 0:\n",
    "        return ''\n",
    "    if len(s) == 1:\n",
    "        return s[0]\n",
    "    if s[0] == s[1]:\n",
    "        return s[0] + '*' + pairStar(s[1:])\n",
    "    else:\n",
    "        return s[0] + pairStar(s[1:])\n",
    "    \n",
    "s = input()\n",
    "print(pairStar(s))"
   ]
  },
  {
   "cell_type": "markdown",
   "metadata": {},
   "source": [
    "# Check AB\n",
    "\n",
    "1. The string begins with an 'a'\n",
    "2. Each 'a' is followed by nothing or an 'a' or \"bb\"\n",
    "3. Each \"bb\" is followed by nothing or an 'a'"
   ]
  },
  {
   "cell_type": "code",
   "execution_count": 1,
   "metadata": {},
   "outputs": [
    {
     "name": "stdout",
     "output_type": "stream",
     "text": [
      "abb\n",
      "true\n"
     ]
    }
   ],
   "source": [
    "def checkAB(s):\n",
    "    if len(s) == 0:\n",
    "        return 1\n",
    "    if s[0] == 'a':\n",
    "        if len(s[1:]) > 1 and s[1:3] == 'bb':\n",
    "            return checkAB(s[3:])\n",
    "        else:\n",
    "            return checkAB(s[1:])\n",
    "    else:\n",
    "        return 0\n",
    "\n",
    "s = input()\n",
    "if checkAB(s):\n",
    "    print('true')\n",
    "else:\n",
    "    print('false')"
   ]
  },
  {
   "cell_type": "code",
   "execution_count": 57,
   "metadata": {},
   "outputs": [
    {
     "name": "stdout",
     "output_type": "stream",
     "text": [
      "abb\n"
     ]
    },
    {
     "ename": "IndexError",
     "evalue": "string index out of range",
     "output_type": "error",
     "traceback": [
      "\u001b[1;31m---------------------------------------------------------------------------\u001b[0m",
      "\u001b[1;31mIndexError\u001b[0m                                Traceback (most recent call last)",
      "\u001b[1;32m<ipython-input-57-b507aaaf0415>\u001b[0m in \u001b[0;36m<module>\u001b[1;34m\u001b[0m\n\u001b[0;32m     20\u001b[0m \u001b[0ms\u001b[0m \u001b[1;33m=\u001b[0m \u001b[0minput\u001b[0m\u001b[1;33m(\u001b[0m\u001b[1;33m)\u001b[0m\u001b[1;33m\u001b[0m\u001b[1;33m\u001b[0m\u001b[0m\n\u001b[0;32m     21\u001b[0m \u001b[1;32mif\u001b[0m \u001b[0ms\u001b[0m\u001b[1;33m[\u001b[0m\u001b[1;36m0\u001b[0m\u001b[1;33m]\u001b[0m \u001b[1;33m==\u001b[0m \u001b[1;34m'a'\u001b[0m\u001b[1;33m:\u001b[0m\u001b[1;33m\u001b[0m\u001b[1;33m\u001b[0m\u001b[0m\n\u001b[1;32m---> 22\u001b[1;33m     \u001b[1;32mif\u001b[0m \u001b[0mcheckAB\u001b[0m\u001b[1;33m(\u001b[0m\u001b[0ms\u001b[0m\u001b[1;33m[\u001b[0m\u001b[1;36m1\u001b[0m\u001b[1;33m:\u001b[0m\u001b[1;33m]\u001b[0m\u001b[1;33m)\u001b[0m\u001b[1;33m:\u001b[0m\u001b[1;33m\u001b[0m\u001b[1;33m\u001b[0m\u001b[0m\n\u001b[0m\u001b[0;32m     23\u001b[0m         \u001b[0mprint\u001b[0m\u001b[1;33m(\u001b[0m\u001b[1;34m'true'\u001b[0m\u001b[1;33m)\u001b[0m\u001b[1;33m\u001b[0m\u001b[1;33m\u001b[0m\u001b[0m\n\u001b[0;32m     24\u001b[0m     \u001b[1;32melse\u001b[0m\u001b[1;33m:\u001b[0m\u001b[1;33m\u001b[0m\u001b[1;33m\u001b[0m\u001b[0m\n",
      "\u001b[1;32m<ipython-input-57-b507aaaf0415>\u001b[0m in \u001b[0;36mcheckAB\u001b[1;34m(s)\u001b[0m\n\u001b[0;32m     10\u001b[0m             \u001b[1;32mreturn\u001b[0m \u001b[1;36m0\u001b[0m\u001b[1;33m\u001b[0m\u001b[1;33m\u001b[0m\u001b[0m\n\u001b[0;32m     11\u001b[0m     \u001b[1;32melif\u001b[0m \u001b[0ms\u001b[0m\u001b[1;33m[\u001b[0m\u001b[1;36m0\u001b[0m\u001b[1;33m]\u001b[0m \u001b[1;33m==\u001b[0m \u001b[1;34m'b'\u001b[0m\u001b[1;33m:\u001b[0m\u001b[1;33m\u001b[0m\u001b[1;33m\u001b[0m\u001b[0m\n\u001b[1;32m---> 12\u001b[1;33m         \u001b[1;32mif\u001b[0m \u001b[0ms\u001b[0m\u001b[1;33m[\u001b[0m\u001b[1;36m1\u001b[0m\u001b[1;33m]\u001b[0m \u001b[1;33m==\u001b[0m \u001b[1;34m'b'\u001b[0m \u001b[1;32mand\u001b[0m \u001b[0ms\u001b[0m\u001b[1;33m[\u001b[0m\u001b[1;36m2\u001b[0m\u001b[1;33m]\u001b[0m \u001b[1;33m==\u001b[0m \u001b[1;34m''\u001b[0m\u001b[1;33m:\u001b[0m\u001b[1;33m\u001b[0m\u001b[1;33m\u001b[0m\u001b[0m\n\u001b[0m\u001b[0;32m     13\u001b[0m             \u001b[1;32mreturn\u001b[0m \u001b[1;36m1\u001b[0m\u001b[1;33m\u001b[0m\u001b[1;33m\u001b[0m\u001b[0m\n\u001b[0;32m     14\u001b[0m         \u001b[1;32melif\u001b[0m \u001b[0ms\u001b[0m\u001b[1;33m[\u001b[0m\u001b[1;36m1\u001b[0m\u001b[1;33m]\u001b[0m \u001b[1;33m==\u001b[0m \u001b[1;34m'b'\u001b[0m \u001b[1;32mand\u001b[0m \u001b[0ms\u001b[0m\u001b[1;33m[\u001b[0m\u001b[1;36m2\u001b[0m\u001b[1;33m]\u001b[0m \u001b[1;33m==\u001b[0m \u001b[1;34m'a'\u001b[0m\u001b[1;33m:\u001b[0m\u001b[1;33m\u001b[0m\u001b[1;33m\u001b[0m\u001b[0m\n",
      "\u001b[1;31mIndexError\u001b[0m: string index out of range"
     ]
    }
   ],
   "source": [
    "def checkAB(s):\n",
    "    if len(s) == 0:\n",
    "        return 1\n",
    "    if s[0] == 'a':\n",
    "        if s[1] == 'a' or s[1] == 'b':\n",
    "            return checkAB(s[2:])\n",
    "        if s[1] == None:\n",
    "            return 1\n",
    "        else:\n",
    "            return 0\n",
    "    elif s[0] == 'b':\n",
    "        if s[1] == 'b' and s[2] == None:\n",
    "            return checkAB(s[2:])\n",
    "        elif s[1] == 'b' and s[2] == 'a':\n",
    "            return 1\n",
    "        else:\n",
    "            return 0\n",
    "\n",
    "s = input()\n",
    "if s[0] == 'a':\n",
    "    if checkAB(s[1:]):\n",
    "        print('true')\n",
    "    else:\n",
    "        print('false')\n",
    "else:\n",
    "    print('false')"
   ]
  },
  {
   "cell_type": "code",
   "execution_count": null,
   "metadata": {},
   "outputs": [],
   "source": [
    "int checkstring(char *t)\n",
    "{\n",
    "    if(*t==NULL)\n",
    "    {\n",
    "        return 1;\n",
    "    }\n",
    "    char *c=t;\n",
    "    if(*t==’a’)\n",
    "    {\n",
    "        if(*(c+1)==’a’)\n",
    "        {\n",
    "            return checkstring(t+1);\n",
    "        }\n",
    "        else if(*(c+1)==’b’)\n",
    "        {\n",
    "            return checkstring(t+1);\n",
    "        }\n",
    "        if(*(c+1)==NULL)\n",
    "        {\n",
    "            return 1;\n",
    "        }\n",
    "        else\n",
    "        {\n",
    "            return 0;\n",
    "        }\n",
    "    }\n",
    "    else if(*t==’b’)\n",
    "    {\n",
    "        if(*(c+1)==’b’&&*(c+2)==’a’)\n",
    "        {\n",
    "            return checkstring(t+2);\n",
    "        }\n",
    "        else if(*(c+1)==’b’&&*(c+2)==NULL)\n",
    "        {\n",
    "            return 1;\n",
    "        }\n",
    "        else\n",
    "        {\n",
    "            return 0;\n",
    "        }\n",
    "    }\n",
    "}\n",
    "\n",
    "main()\n",
    "{\n",
    "    char s[100];\n",
    "    cin>>s;\n",
    "    char *t;\n",
    "    t=s;\n",
    "    if(*t==’a’)\n",
    "    {\n",
    "        t=t++;\n",
    "        if(checkstring(t))\n",
    "        {\n",
    "            cout<<\"valid substring\";\n",
    "        }\n",
    "        else\n",
    "        {\n",
    "            cout<<\"Not a valid substring\";\n",
    "        }\n",
    "    }\n",
    "    else\n",
    "    {\n",
    "        cout<<\"Not a valid substring\";\n",
    "    }\n",
    "}"
   ]
  },
  {
   "cell_type": "code",
   "execution_count": 7,
   "metadata": {},
   "outputs": [],
   "source": [
    "def state2(lst):\n",
    "    if lst==[]:\n",
    "        return True\n",
    "    poped = lst.pop(0)\n",
    "    if poped == \"a\":\n",
    "        return state2(lst)\n",
    "    else:\n",
    "        if lst == [] or lst[0] == 'a':\n",
    "            return False\n",
    "        if lst[0]==\"b\":\n",
    "            lst.pop(0) # removed \"BB\"\n",
    "            return state1(lst)\n",
    "\n",
    "def state1(lst):\n",
    "    if lst==[]:\n",
    "        return True\n",
    "    if lst[0]==\"a\":\n",
    "        lst.pop(0)\n",
    "        return state2(lst)\n",
    "    return False"
   ]
  },
  {
   "cell_type": "code",
   "execution_count": 8,
   "metadata": {},
   "outputs": [
    {
     "name": "stdout",
     "output_type": "stream",
     "text": [
      "True\n",
      "True\n",
      "False\n",
      "True\n",
      "True\n",
      "False\n",
      "True\n"
     ]
    }
   ],
   "source": [
    "def checkString(inp):\n",
    "    # print(list(inp))\n",
    "    return state1(list(inp))\n",
    "\n",
    "testcases = [\"abb\",\"a\",\"ab\",\"abba\", \"\",\"abbabbb\",\"abbabbaaabbaaabbabb\"]\n",
    "for i in testcases:\n",
    "    print(checkString(i))"
   ]
  },
  {
   "cell_type": "markdown",
   "metadata": {},
   "source": [
    "# Staircase\n",
    "\n",
    "A child is running up a staircase with N steps, and can hop either 1 step, 2 steps or 3 steps at a time. Implement a method to count how many possible ways the child can run up to the stairs. You need to return number of possible ways W."
   ]
  },
  {
   "cell_type": "code",
   "execution_count": 6,
   "metadata": {},
   "outputs": [
    {
     "name": "stdout",
     "output_type": "stream",
     "text": [
      "5\n",
      "13\n"
     ]
    }
   ],
   "source": [
    "def staircase(n):\n",
    "    if n == 0 or n == 1:\n",
    "        return 1\n",
    "    elif n == 2:\n",
    "        return 2\n",
    "    else:\n",
    "        return staircase(n-1) + staircase(n-2) + staircase(n-3)\n",
    "    \n",
    "n = int(input())\n",
    "print(staircase(n))"
   ]
  }
 ],
 "metadata": {
  "kernelspec": {
   "display_name": "Python 3",
   "language": "python",
   "name": "python3"
  },
  "language_info": {
   "codemirror_mode": {
    "name": "ipython",
    "version": 3
   },
   "file_extension": ".py",
   "mimetype": "text/x-python",
   "name": "python",
   "nbconvert_exporter": "python",
   "pygments_lexer": "ipython3",
   "version": "3.8.2"
  }
 },
 "nbformat": 4,
 "nbformat_minor": 4
}
