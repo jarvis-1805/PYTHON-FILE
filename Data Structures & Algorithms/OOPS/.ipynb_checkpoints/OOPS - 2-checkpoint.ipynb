{
 "cells": [
  {
   "cell_type": "markdown",
   "metadata": {},
   "source": [
    "# Inheritance"
   ]
  },
  {
   "cell_type": "code",
   "execution_count": 28,
   "metadata": {},
   "outputs": [],
   "source": [
    "class Vehicle:\n",
    "    def __init__(self, color, maxSpeed, wheels):\n",
    "        self.color = color\n",
    "        self.maxSpeed = maxSpeed\n",
    "        self.__wheels = wheels    #PRIVATE MEMBER CANNOT BE ACCESSED OUTSIDE PARENT CLASS VEHICLE\n",
    "     \n",
    "    #WE CAN USE GETTER AND SETTER FUNCTIONS TO ACCESS PRIVATE MEMBERS\n",
    "    def getWheels(self):\n",
    "        return self.__wheels\n",
    "    \n",
    "    def setWheels(self, wheels):\n",
    "        self.__wheels = wheels\n",
    "    \n",
    "    #WE CAN ALSO DISPLAY PRIVATE MEMBERS WITHOUT USING GETTERS AND SETTERS BY GIVING THE DUTY OF PRINTING TO ANOTHER FUNCTION\n",
    "    def display(self):\n",
    "        print('Color :', self.color)\n",
    "        print('MaxSpeed :', self.maxSpeed)\n",
    "        print('Wheels :', self.__wheels)"
   ]
  },
  {
   "cell_type": "code",
   "execution_count": 35,
   "metadata": {},
   "outputs": [],
   "source": [
    "class Car(Vehicle):\n",
    "    def __init__(self, color, maxSpeed, numGears, isConvertible, wheels):\n",
    "        super().__init__(color, maxSpeed, wheels)\n",
    "        self.numGears = numGears\n",
    "        self.isConvertible = isConvertible\n",
    "    \n",
    "    def printCar(self):\n",
    "        self.display()\n",
    "        #print('Color :', self.color)\n",
    "        #print('MaxSpeed :', self.maxSpeed)\n",
    "        print('NumGears :', self.numGears)\n",
    "        print('isConvertible :', self.isConvertible)\n",
    "        #print('Wheels :', self.getWheels())"
   ]
  },
  {
   "cell_type": "code",
   "execution_count": 36,
   "metadata": {},
   "outputs": [
    {
     "name": "stdout",
     "output_type": "stream",
     "text": [
      "Color : Red\n",
      "MaxSpeed : 15\n",
      "Wheels : 4\n",
      "NumGears : 3\n",
      "isConvertible : False\n"
     ]
    }
   ],
   "source": [
    "c = Car('Red', 15, 3, False, 4)\n",
    "c.printCar()"
   ]
  },
  {
   "cell_type": "markdown",
   "metadata": {},
   "source": [
    "# Polymorphism - Method Overriding"
   ]
  },
  {
   "cell_type": "code",
   "execution_count": 12,
   "metadata": {},
   "outputs": [],
   "source": [
    "class Vehicle:\n",
    "    def __init__(self, color, maxSpeed, wheels):\n",
    "        self.color = color\n",
    "        self.maxSpeed = maxSpeed\n",
    "        self.__wheels = wheels    #PRIVATE MEMBER CANNOT BE ACCESSED OUTSIDE PARENT CLASS VEHICLE\n",
    "     \n",
    "    #WE CAN USE GETTER AND SETTER FUNCTIONS TO ACCESS PRIVATE MEMBERS\n",
    "    def getWheels(self):\n",
    "        return self.__wheels\n",
    "    \n",
    "    def setWheels(self, wheels):\n",
    "        self.__wheels = wheels\n",
    "    \n",
    "    #WE CAN ALSO DISPLAY PRIVATE MEMBERS WITHOUT USING GETTERS AND SETTERS BY GIVING THE DUTY OF PRINTING TO ANOTHER FUNCTION\n",
    "    def display(self):\n",
    "        print('Color :', self.color)\n",
    "        print('MaxSpeed :', self.maxSpeed)\n",
    "        print('Wheels :', self.__wheels)"
   ]
  },
  {
   "cell_type": "code",
   "execution_count": 18,
   "metadata": {},
   "outputs": [],
   "source": [
    "class Car(Vehicle):\n",
    "    def __init__(self, color, maxSpeed, numGears, isConvertible, wheels):\n",
    "        super().__init__(color, maxSpeed, wheels)\n",
    "        self.numGears = numGears\n",
    "        self.isConvertible = isConvertible\n",
    "    \n",
    "    def display(self):\n",
    "        #self.display()    #self.display() WILL CALL ITSELF IN RECURSION\n",
    "        super().display()  #THEREFORE WE USE super().display() TO CALL PARENT'S DISPLAY FUNCTION\n",
    "        #print('Color :', self.color)\n",
    "        #print('MaxSpeed :', self.maxSpeed)\n",
    "        print('NumGears :', self.numGears)\n",
    "        print('isConvertible :', self.isConvertible)\n",
    "        #print('Wheels :', self.getWheels())"
   ]
  },
  {
   "cell_type": "code",
   "execution_count": 19,
   "metadata": {},
   "outputs": [
    {
     "name": "stdout",
     "output_type": "stream",
     "text": [
      "Color : Red\n",
      "MaxSpeed : 15\n",
      "Wheels : 4\n",
      "NumGears : 3\n",
      "isConvertible : False\n"
     ]
    }
   ],
   "source": [
    "c = Car('Red', 15, 3, False, 4)\n",
    "c.display()"
   ]
  },
  {
   "cell_type": "code",
   "execution_count": 15,
   "metadata": {},
   "outputs": [
    {
     "name": "stdout",
     "output_type": "stream",
     "text": [
      "Color : Black\n",
      "MaxSpeed : 20\n",
      "Wheels : 4\n"
     ]
    }
   ],
   "source": [
    "v = Vehicle('Black', 20, 4)\n",
    "v.display()"
   ]
  },
  {
   "cell_type": "markdown",
   "metadata": {},
   "source": [
    "# Protected Members"
   ]
  },
  {
   "cell_type": "code",
   "execution_count": 19,
   "metadata": {},
   "outputs": [],
   "source": [
    "class Vehicle:\n",
    "    def __init__(self, color, maxSpeed, wheels):\n",
    "        self.color = color\n",
    "        self.maxSpeed = maxSpeed\n",
    "        self._wheels = wheels    #PROTECTED MEMBER IS JUST LIKE A PUBLIC VARIABLE\n",
    "         \n",
    "    #WE CAN ALSO DISPLAY PROTECTED MEMBERS WITHOUT USING GETTERS AND SETTERS BY GIVING THE DUTY OF PRINTING TO ANOTHER FUNCTION\n",
    "    def display(self):\n",
    "        print('Color :', self.color)\n",
    "        print('MaxSpeed :', self.maxSpeed)\n",
    "        print('Wheels :', self._wheels)"
   ]
  },
  {
   "cell_type": "code",
   "execution_count": 20,
   "metadata": {},
   "outputs": [],
   "source": [
    "class Car(Vehicle):\n",
    "    def __init__(self, color, maxSpeed, numGears, isConvertible, wheels):\n",
    "        super().__init__(color, maxSpeed, wheels)\n",
    "        self.numGears = numGears\n",
    "        self.isConvertible = isConvertible\n",
    "    \n",
    "    def display(self):\n",
    "        #self.display()    #self.display() WILL CALL ITSELF IN RECURSION\n",
    "        super().display()  #THEREFORE WE USE super().display() TO CALL PARENT'S DISPLAY FUNCTION\n",
    "        #print('Color :', self.color)\n",
    "        #print('MaxSpeed :', self.maxSpeed)\n",
    "        print('NumGears :', self.numGears)\n",
    "        print('isConvertible :', self.isConvertible)"
   ]
  },
  {
   "cell_type": "code",
   "execution_count": 21,
   "metadata": {},
   "outputs": [
    {
     "name": "stdout",
     "output_type": "stream",
     "text": [
      "Color : Red\n",
      "MaxSpeed : 15\n",
      "Wheels : 4\n",
      "NumGears : 3\n",
      "isConvertible : False\n"
     ]
    }
   ],
   "source": [
    "c = Car('Red', 15, 3, False, 4)\n",
    "c.display()"
   ]
  },
  {
   "cell_type": "code",
   "execution_count": 22,
   "metadata": {},
   "outputs": [
    {
     "name": "stdout",
     "output_type": "stream",
     "text": [
      "Color : Black\n",
      "MaxSpeed : 20\n",
      "Wheels : 4\n"
     ]
    }
   ],
   "source": [
    "v = Vehicle('Black', 20, 4)\n",
    "v.display()"
   ]
  },
  {
   "cell_type": "code",
   "execution_count": 23,
   "metadata": {},
   "outputs": [
    {
     "name": "stdout",
     "output_type": "stream",
     "text": [
      "Color : Black\n",
      "MaxSpeed : 20\n",
      "Wheels : 16\n"
     ]
    }
   ],
   "source": [
    "v._wheels = 16\n",
    "v.display()"
   ]
  },
  {
   "cell_type": "markdown",
   "metadata": {},
   "source": [
    "# Object Class"
   ]
  },
  {
   "cell_type": "code",
   "execution_count": 30,
   "metadata": {},
   "outputs": [],
   "source": [
    "class Circle(object):\n",
    "    def __init__(self, radius):\n",
    "        self.radius = radius\n",
    "    \n",
    "    def __str__(self):\n",
    "        return 'This is a Circle class which takes radius as an argument'"
   ]
  },
  {
   "cell_type": "code",
   "execution_count": 31,
   "metadata": {},
   "outputs": [
    {
     "name": "stdout",
     "output_type": "stream",
     "text": [
      "This is a Circle class which takes radius as an argument\n"
     ]
    }
   ],
   "source": [
    "c = Circle(3)\n",
    "print(c)"
   ]
  },
  {
   "cell_type": "markdown",
   "metadata": {},
   "source": [
    "# Multiple Inheritance"
   ]
  },
  {
   "cell_type": "code",
   "execution_count": 17,
   "metadata": {},
   "outputs": [],
   "source": [
    "class Mother:\n",
    "    def display(self):\n",
    "        print('Print of Mother called')"
   ]
  },
  {
   "cell_type": "code",
   "execution_count": 18,
   "metadata": {},
   "outputs": [],
   "source": [
    "class Father:\n",
    "    def display(self):\n",
    "        print('Print of Father called')"
   ]
  },
  {
   "cell_type": "code",
   "execution_count": 19,
   "metadata": {},
   "outputs": [],
   "source": [
    "class Child(Father, Mother):\n",
    "    def __init__(self, name):\n",
    "        self.name = name\n",
    "        \n",
    "    def printChild(self):\n",
    "        print('Name of child is', self.name)"
   ]
  },
  {
   "cell_type": "code",
   "execution_count": 20,
   "metadata": {},
   "outputs": [],
   "source": [
    "class Child1(Mother, Father):\n",
    "    def __init__(self, name):\n",
    "        self.name = name\n",
    "        \n",
    "    def printChild(self):\n",
    "        print('Name of child is', self.name)"
   ]
  },
  {
   "cell_type": "code",
   "execution_count": 21,
   "metadata": {},
   "outputs": [
    {
     "name": "stdout",
     "output_type": "stream",
     "text": [
      "Name of child is Rohan\n",
      "Print of Father called\n"
     ]
    }
   ],
   "source": [
    "c = Child('Rohan')\n",
    "c.printChild()\n",
    "c.display()"
   ]
  },
  {
   "cell_type": "code",
   "execution_count": 22,
   "metadata": {},
   "outputs": [
    {
     "name": "stdout",
     "output_type": "stream",
     "text": [
      "Name of child is Rohan\n",
      "Print of Mother called\n"
     ]
    }
   ],
   "source": [
    "c1 = Child1('Rohan')\n",
    "c1.printChild()\n",
    "c1.display()"
   ]
  },
  {
   "cell_type": "code",
   "execution_count": 25,
   "metadata": {},
   "outputs": [],
   "source": [
    "class Mother:\n",
    "    def __init__(self):\n",
    "        self.name = 'Manju'\n",
    "        \n",
    "    def display(self):\n",
    "        print('Print of Mother called')"
   ]
  },
  {
   "cell_type": "code",
   "execution_count": 26,
   "metadata": {},
   "outputs": [],
   "source": [
    "class Father:\n",
    "    def __init__(self):\n",
    "        self.name = 'Ajay'\n",
    "        \n",
    "    def display(self):\n",
    "        print('Print of Father called')"
   ]
  },
  {
   "cell_type": "code",
   "execution_count": 30,
   "metadata": {},
   "outputs": [],
   "source": [
    "class Child(Father, Mother):\n",
    "    def __init__(self):\n",
    "        super().__init__()\n",
    "        \n",
    "    def printChild(self):\n",
    "        print('Name of child is', self.name)"
   ]
  },
  {
   "cell_type": "code",
   "execution_count": 31,
   "metadata": {},
   "outputs": [],
   "source": [
    "class Child1(Mother, Father):\n",
    "    def __init__(self):\n",
    "        super().__init__()\n",
    "        \n",
    "    def printChild(self):\n",
    "        print('Name of child is', self.name)"
   ]
  },
  {
   "cell_type": "code",
   "execution_count": 32,
   "metadata": {},
   "outputs": [
    {
     "name": "stdout",
     "output_type": "stream",
     "text": [
      "Name of child is Ajay\n"
     ]
    }
   ],
   "source": [
    "c = Child()\n",
    "c.printChild()"
   ]
  },
  {
   "cell_type": "code",
   "execution_count": 33,
   "metadata": {},
   "outputs": [
    {
     "name": "stdout",
     "output_type": "stream",
     "text": [
      "Name of child is Manju\n"
     ]
    }
   ],
   "source": [
    "c1 = Child1()\n",
    "c1.printChild()"
   ]
  },
  {
   "cell_type": "markdown",
   "metadata": {},
   "source": [
    "# Method Resolution Order"
   ]
  },
  {
   "cell_type": "code",
   "execution_count": 40,
   "metadata": {},
   "outputs": [],
   "source": [
    "class Mother1:\n",
    "    def __init__(self):\n",
    "        self.name = 'Manju'\n",
    "        \n",
    "    def display(self):\n",
    "        print('Print of Mother called')"
   ]
  },
  {
   "cell_type": "code",
   "execution_count": 41,
   "metadata": {},
   "outputs": [],
   "source": [
    "class Father1:\n",
    "    def __init__(self):\n",
    "        self.name = 'Ajay'\n",
    "        \n",
    "    def display(self):\n",
    "        print('Print of Father called')"
   ]
  },
  {
   "cell_type": "code",
   "execution_count": 42,
   "metadata": {},
   "outputs": [],
   "source": [
    "class Child2(Mother1, Father1):\n",
    "    def __init__(self):\n",
    "        super().__init__()\n",
    "        \n",
    "    def display(self):\n",
    "        print('Name of child is', self.name)"
   ]
  },
  {
   "cell_type": "code",
   "execution_count": 48,
   "metadata": {},
   "outputs": [
    {
     "name": "stdout",
     "output_type": "stream",
     "text": [
      "Name of child is Manju\n",
      "[<class '__main__.Child2'>, <class '__main__.Mother1'>, <class '__main__.Father1'>, <class 'object'>]\n"
     ]
    }
   ],
   "source": [
    "c2 = Child2()\n",
    "c2.display()\n",
    "print(Child2.mro())"
   ]
  },
  {
   "cell_type": "code",
   "execution_count": 53,
   "metadata": {},
   "outputs": [],
   "source": [
    "class Mother2:\n",
    "    def __init__(self):\n",
    "        self.name = 'Manju'\n",
    "        super().__init__()\n",
    "        \n",
    "    def display(self):\n",
    "        print('Print of Mother called')"
   ]
  },
  {
   "cell_type": "code",
   "execution_count": 54,
   "metadata": {},
   "outputs": [],
   "source": [
    "class Father2:\n",
    "    def __init__(self):\n",
    "        self.name = 'Ajay'\n",
    "        \n",
    "    def display(self):\n",
    "        print('Print of Father called')"
   ]
  },
  {
   "cell_type": "code",
   "execution_count": 55,
   "metadata": {},
   "outputs": [],
   "source": [
    "class Child3(Mother2, Father2):\n",
    "    def __init__(self):\n",
    "        super().__init__()\n",
    "        \n",
    "    def display(self):\n",
    "        print('Name of child is', self.name)"
   ]
  },
  {
   "cell_type": "code",
   "execution_count": 57,
   "metadata": {},
   "outputs": [
    {
     "name": "stdout",
     "output_type": "stream",
     "text": [
      "Name of child is Ajay\n",
      "[<class '__main__.Child3'>, <class '__main__.Mother2'>, <class '__main__.Father2'>, <class 'object'>]\n"
     ]
    }
   ],
   "source": [
    "c3 = Child3()\n",
    "c3.display()\n",
    "print(Child3.mro())"
   ]
  },
  {
   "cell_type": "code",
   "execution_count": 59,
   "metadata": {},
   "outputs": [],
   "source": [
    "class Mother3:\n",
    "    def __init__(self):\n",
    "        self.name = 'Manju'\n",
    "        super().__init__()\n",
    "        \n",
    "    def display(self):\n",
    "        print('Print of Mother called')"
   ]
  },
  {
   "cell_type": "code",
   "execution_count": 60,
   "metadata": {},
   "outputs": [],
   "source": [
    "class Father3:\n",
    "    def __init__(self):\n",
    "        self.name = 'Ajay'\n",
    "        super().__init__()\n",
    "        \n",
    "    def display(self):\n",
    "        print('Print of Father called')"
   ]
  },
  {
   "cell_type": "code",
   "execution_count": 61,
   "metadata": {},
   "outputs": [],
   "source": [
    "class Child4(Mother3, Father3):\n",
    "    def __init__(self):\n",
    "        super().__init__()\n",
    "        \n",
    "    def display(self):\n",
    "        print('Name of child is', self.name)"
   ]
  },
  {
   "cell_type": "code",
   "execution_count": 62,
   "metadata": {},
   "outputs": [
    {
     "name": "stdout",
     "output_type": "stream",
     "text": [
      "Name of child is Ajay\n",
      "[<class '__main__.Child4'>, <class '__main__.Mother3'>, <class '__main__.Father3'>, <class 'object'>]\n"
     ]
    }
   ],
   "source": [
    "c4 = Child4()\n",
    "c4.display()\n",
    "print(Child4.mro())"
   ]
  },
  {
   "cell_type": "markdown",
   "metadata": {},
   "source": [
    "# Operator Overloading"
   ]
  },
  {
   "cell_type": "code",
   "execution_count": 69,
   "metadata": {},
   "outputs": [],
   "source": [
    "import math\n",
    "class Point:\n",
    "    def __init__(self, x, y):\n",
    "        self.__x = x\n",
    "        self.__y = y\n",
    "        \n",
    "    def __str__(self):\n",
    "        return 'This  point is at (' + str(self.__x) + ',' + str(self.__y) + ')'\n",
    "    \n",
    "    def __add__(self, point_object):\n",
    "        return Point(self.__x + point_object.__x, self.__y + point_object.__y)\n",
    "    \n",
    "    def __lt__(self, point_object):\n",
    "        return math.sqrt(self.__x**2 + self.__y**2) < math.sqrt(point_object.__x**2 + point_object.__y**2)"
   ]
  },
  {
   "cell_type": "code",
   "execution_count": 71,
   "metadata": {},
   "outputs": [
    {
     "name": "stdout",
     "output_type": "stream",
     "text": [
      "This  point is at (5,8)\n",
      "True\n",
      "False\n"
     ]
    }
   ],
   "source": [
    "p1 = Point(1, 2)\n",
    "p2 = Point(4, 6)\n",
    "p3 = p1 + p2\n",
    "print(p3)\n",
    "print(p1 < p2)\n",
    "print(p2 < p1)"
   ]
  },
  {
   "cell_type": "code",
   "execution_count": null,
   "metadata": {},
   "outputs": [],
   "source": []
  }
 ],
 "metadata": {
  "kernelspec": {
   "display_name": "Python 3",
   "language": "python",
   "name": "python3"
  },
  "language_info": {
   "codemirror_mode": {
    "name": "ipython",
    "version": 3
   },
   "file_extension": ".py",
   "mimetype": "text/x-python",
   "name": "python",
   "nbconvert_exporter": "python",
   "pygments_lexer": "ipython3",
   "version": "3.8.2"
  }
 },
 "nbformat": 4,
 "nbformat_minor": 4
}
