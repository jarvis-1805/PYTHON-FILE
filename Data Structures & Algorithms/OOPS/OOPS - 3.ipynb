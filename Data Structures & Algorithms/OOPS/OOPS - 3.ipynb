{
 "cells": [
  {
   "cell_type": "markdown",
   "metadata": {},
   "source": [
    "# Abstract Classes"
   ]
  },
  {
   "cell_type": "code",
   "execution_count": 2,
   "metadata": {
    "slideshow": {
     "slide_type": "subslide"
    }
   },
   "outputs": [],
   "source": [
    "from abc import ABC, abstractmethod"
   ]
  },
  {
   "cell_type": "code",
   "execution_count": 4,
   "metadata": {},
   "outputs": [],
   "source": [
    "class Automobile(ABC):\n",
    "    def __init__(self):\n",
    "        print(\"Automobile created\")\n",
    "    \n",
    "    @abstractmethod\n",
    "    def start(self):\n",
    "        pass\n",
    "    \n",
    "    @abstractmethod\n",
    "    def stop(self):\n",
    "        pass\n",
    "    \n",
    "    @abstractmethod\n",
    "    def drive(self):\n",
    "        pass"
   ]
  },
  {
   "cell_type": "code",
   "execution_count": 5,
   "metadata": {},
   "outputs": [
    {
     "ename": "TypeError",
     "evalue": "Can't instantiate abstract class Automobile with abstract methods drive, start, stop",
     "output_type": "error",
     "traceback": [
      "\u001b[1;31m---------------------------------------------------------------------------\u001b[0m",
      "\u001b[1;31mTypeError\u001b[0m                                 Traceback (most recent call last)",
      "\u001b[1;32m<ipython-input-5-32d764686351>\u001b[0m in \u001b[0;36m<module>\u001b[1;34m\u001b[0m\n\u001b[1;32m----> 1\u001b[1;33m \u001b[0mc\u001b[0m \u001b[1;33m=\u001b[0m \u001b[0mAutomobile\u001b[0m\u001b[1;33m(\u001b[0m\u001b[1;33m)\u001b[0m\u001b[1;33m\u001b[0m\u001b[1;33m\u001b[0m\u001b[0m\n\u001b[0m",
      "\u001b[1;31mTypeError\u001b[0m: Can't instantiate abstract class Automobile with abstract methods drive, start, stop"
     ]
    }
   ],
   "source": [
    "c = Automobile()"
   ]
  },
  {
   "cell_type": "code",
   "execution_count": 15,
   "metadata": {},
   "outputs": [],
   "source": [
    "class Car(Automobile):\n",
    "    def __init__(self, name):\n",
    "        print(\"Car created\")\n",
    "        self.name = name"
   ]
  },
  {
   "cell_type": "code",
   "execution_count": 16,
   "metadata": {},
   "outputs": [
    {
     "ename": "TypeError",
     "evalue": "Can't instantiate abstract class Car with abstract methods drive, start, stop",
     "output_type": "error",
     "traceback": [
      "\u001b[1;31m---------------------------------------------------------------------------\u001b[0m",
      "\u001b[1;31mTypeError\u001b[0m                                 Traceback (most recent call last)",
      "\u001b[1;32m<ipython-input-16-9a170caf3b81>\u001b[0m in \u001b[0;36m<module>\u001b[1;34m\u001b[0m\n\u001b[1;32m----> 1\u001b[1;33m \u001b[0mc1\u001b[0m \u001b[1;33m=\u001b[0m \u001b[0mCar\u001b[0m\u001b[1;33m(\u001b[0m\u001b[1;34m\"Honda\"\u001b[0m\u001b[1;33m)\u001b[0m\u001b[1;33m\u001b[0m\u001b[1;33m\u001b[0m\u001b[0m\n\u001b[0m",
      "\u001b[1;31mTypeError\u001b[0m: Can't instantiate abstract class Car with abstract methods drive, start, stop"
     ]
    }
   ],
   "source": [
    "c1 = Car(\"Honda\")"
   ]
  },
  {
   "cell_type": "code",
   "execution_count": 20,
   "metadata": {},
   "outputs": [],
   "source": [
    "class Car(Automobile):\n",
    "    #def __init__(self, name):\n",
    "        #print(\"Car created\")\n",
    "        #self.name = name\n",
    "        \n",
    "    def start(self):\n",
    "        pass\n",
    "    \n",
    "    def stop(self):\n",
    "        pass\n",
    "    \n",
    "    def drive(self):\n",
    "        pass"
   ]
  },
  {
   "cell_type": "code",
   "execution_count": 18,
   "metadata": {},
   "outputs": [
    {
     "name": "stdout",
     "output_type": "stream",
     "text": [
      "Car created\n"
     ]
    }
   ],
   "source": [
    "c2 = Car(\"Honda\")"
   ]
  },
  {
   "cell_type": "code",
   "execution_count": 22,
   "metadata": {},
   "outputs": [
    {
     "name": "stdout",
     "output_type": "stream",
     "text": [
      "Automobile created\n"
     ]
    }
   ],
   "source": [
    "c3 = Car()"
   ]
  },
  {
   "cell_type": "code",
   "execution_count": 23,
   "metadata": {},
   "outputs": [],
   "source": [
    "class Bus(Automobile):\n",
    "    def __init__(self, name):\n",
    "        print(\"Bus created\")\n",
    "        self.name = name"
   ]
  },
  {
   "cell_type": "code",
   "execution_count": 24,
   "metadata": {},
   "outputs": [
    {
     "ename": "TypeError",
     "evalue": "Can't instantiate abstract class Bus with abstract methods drive, start, stop",
     "output_type": "error",
     "traceback": [
      "\u001b[1;31m---------------------------------------------------------------------------\u001b[0m",
      "\u001b[1;31mTypeError\u001b[0m                                 Traceback (most recent call last)",
      "\u001b[1;32m<ipython-input-24-09d8982d9c25>\u001b[0m in \u001b[0;36m<module>\u001b[1;34m\u001b[0m\n\u001b[1;32m----> 1\u001b[1;33m \u001b[0mb1\u001b[0m \u001b[1;33m=\u001b[0m \u001b[0mBus\u001b[0m\u001b[1;33m(\u001b[0m\u001b[1;34m'Delhi bus'\u001b[0m\u001b[1;33m)\u001b[0m\u001b[1;33m\u001b[0m\u001b[1;33m\u001b[0m\u001b[0m\n\u001b[0m",
      "\u001b[1;31mTypeError\u001b[0m: Can't instantiate abstract class Bus with abstract methods drive, start, stop"
     ]
    }
   ],
   "source": [
    "b1 = Bus('Delhi bus')"
   ]
  },
  {
   "cell_type": "code",
   "execution_count": 25,
   "metadata": {},
   "outputs": [],
   "source": [
    "#Object of abstract class cannot be created\n",
    "#Implement all the abstract methods in the child class"
   ]
  },
  {
   "cell_type": "code",
   "execution_count": 26,
   "metadata": {},
   "outputs": [
    {
     "name": "stdout",
     "output_type": "stream",
     "text": [
      "Automobile created\n",
      "Automobile created\n",
      "4\n"
     ]
    }
   ],
   "source": [
    "from abc import ABC,abstractmethod\n",
    "\n",
    "class Automobile(ABC):\n",
    "\n",
    "\tdef __init__(self,no_of_wheels):\n",
    "\t\tself.no_of_wheels = no_of_wheels\n",
    "\t\tprint(\"Automobile created\")\n",
    "\n",
    "\t@abstractmethod\n",
    "\tdef start(self):\n",
    "\t\tprint(\"start of Automobile called\")\n",
    "\t@abstractmethod\n",
    "\tdef stop(self):\n",
    "\t\tpass\n",
    "\n",
    "\t@abstractmethod\n",
    "\tdef drive(self):\n",
    "\t\tpass\n",
    "\t@abstractmethod\n",
    "\tdef get_no_of_wheels(self):\n",
    "\t\treturn self.no_of_wheels\n",
    "\n",
    "class Car(Automobile):\n",
    "\n",
    "\n",
    "\tdef start(self):\n",
    "\t\tsuper().start()\n",
    "\t\tprint(\"start of Car called\")\n",
    "\n",
    "\tdef stop(self):\n",
    "\t\tpass\n",
    "\n",
    "\tdef drive(self):\n",
    "\t\tpass\n",
    "\tdef get_no_of_wheels(self):\n",
    "\t\treturn super().get_no_of_wheels()\n",
    "\n",
    "class Bus(Automobile):\n",
    "\n",
    "\tdef start(self):\n",
    "\t\tpass\n",
    "\n",
    "\tdef stop(self):\n",
    "\t\tpass\n",
    "\n",
    "\tdef drive(self):\n",
    "\t\tpass\n",
    "\tdef get_no_of_wheels(self):\n",
    "\t\treturn super().get_no_of_wheels()\n",
    "\n",
    "c = Car(4)\n",
    "b = Bus(8)\n",
    "print(c.get_no_of_wheels())\n",
    "# c = Car(\"Honda\")\n",
    "# c.start()\n",
    "# b = Bus(\"Delhi Metro Bus\")"
   ]
  },
  {
   "cell_type": "markdown",
   "metadata": {},
   "source": [
    "# Errors And Exceptions"
   ]
  },
  {
   "cell_type": "code",
   "execution_count": 28,
   "metadata": {},
   "outputs": [],
   "source": [
    "a = \"abc\""
   ]
  },
  {
   "cell_type": "code",
   "execution_count": 29,
   "metadata": {},
   "outputs": [
    {
     "ename": "ZeroDivisionError",
     "evalue": "division by zero",
     "output_type": "error",
     "traceback": [
      "\u001b[1;31m---------------------------------------------------------------------------\u001b[0m",
      "\u001b[1;31mZeroDivisionError\u001b[0m                         Traceback (most recent call last)",
      "\u001b[1;32m<ipython-input-29-94e7f95dafed>\u001b[0m in \u001b[0;36m<module>\u001b[1;34m\u001b[0m\n\u001b[1;32m----> 1\u001b[1;33m \u001b[0ma\u001b[0m \u001b[1;33m=\u001b[0m \u001b[1;36m10\u001b[0m\u001b[1;33m/\u001b[0m\u001b[1;36m0\u001b[0m\u001b[1;33m\u001b[0m\u001b[1;33m\u001b[0m\u001b[0m\n\u001b[0m",
      "\u001b[1;31mZeroDivisionError\u001b[0m: division by zero"
     ]
    }
   ],
   "source": [
    "a = 10/0"
   ]
  },
  {
   "cell_type": "code",
   "execution_count": 30,
   "metadata": {},
   "outputs": [
    {
     "ename": "TypeError",
     "evalue": "unsupported operand type(s) for *: 'Bus' and 'int'",
     "output_type": "error",
     "traceback": [
      "\u001b[1;31m---------------------------------------------------------------------------\u001b[0m",
      "\u001b[1;31mTypeError\u001b[0m                                 Traceback (most recent call last)",
      "\u001b[1;32m<ipython-input-30-dbef2de7f71b>\u001b[0m in \u001b[0;36m<module>\u001b[1;34m\u001b[0m\n\u001b[1;32m----> 1\u001b[1;33m \u001b[0ma\u001b[0m \u001b[1;33m=\u001b[0m \u001b[0mb\u001b[0m\u001b[1;33m*\u001b[0m\u001b[1;36m4\u001b[0m\u001b[1;33m\u001b[0m\u001b[1;33m\u001b[0m\u001b[0m\n\u001b[0m",
      "\u001b[1;31mTypeError\u001b[0m: unsupported operand type(s) for *: 'Bus' and 'int'"
     ]
    }
   ],
   "source": [
    "a = b*4"
   ]
  },
  {
   "cell_type": "code",
   "execution_count": 31,
   "metadata": {},
   "outputs": [
    {
     "ename": "TypeError",
     "evalue": "can only concatenate str (not \"int\") to str",
     "output_type": "error",
     "traceback": [
      "\u001b[1;31m---------------------------------------------------------------------------\u001b[0m",
      "\u001b[1;31mTypeError\u001b[0m                                 Traceback (most recent call last)",
      "\u001b[1;32m<ipython-input-31-74e63ad8cffb>\u001b[0m in \u001b[0;36m<module>\u001b[1;34m\u001b[0m\n\u001b[1;32m----> 1\u001b[1;33m \u001b[0ma\u001b[0m \u001b[1;33m=\u001b[0m \u001b[1;34m'1'\u001b[0m \u001b[1;33m+\u001b[0m \u001b[1;36m2\u001b[0m\u001b[1;33m\u001b[0m\u001b[1;33m\u001b[0m\u001b[0m\n\u001b[0m",
      "\u001b[1;31mTypeError\u001b[0m: can only concatenate str (not \"int\") to str"
     ]
    }
   ],
   "source": [
    "a = '1' + 2"
   ]
  },
  {
   "cell_type": "markdown",
   "metadata": {},
   "source": [
    "# Exception Handling"
   ]
  },
  {
   "cell_type": "code",
   "execution_count": 3,
   "metadata": {},
   "outputs": [
    {
     "name": "stdout",
     "output_type": "stream",
     "text": [
      "Enter the numerator :6\n",
      "Enter the denominator :0\n",
      "ZeroDenominatorError is raised\n",
      "\n",
      "Numerator: 6\n",
      "Denominator: 0\n",
      "Value: 0\n",
      "exception may or may not be raised\n",
      "Enter the numerator :4\n",
      "Enter the denominator :gj\n",
      "Numerator and Denominator should be integers\n",
      "\n",
      "Numerator: 4\n",
      "Denominator: 0\n",
      "Value: 0\n",
      "exception may or may not be raised\n",
      "Enter the numerator :fgj\n",
      "Numerator and Denominator should be integers\n",
      "\n",
      "Numerator: 4\n",
      "Denominator: 0\n",
      "Value: 0\n",
      "exception may or may not be raised\n",
      "Enter the numerator :5\n",
      "Enter the denominator :2\n",
      "2.5\n",
      "\n",
      "Numerator: 5\n",
      "Denominator: 2\n",
      "Value: 2.5\n",
      "exception may or may not be raised\n"
     ]
    }
   ],
   "source": [
    "class ZeroDenominatorError(ZeroDivisionError):   #class ZeroDenominatorError(Exception):\n",
    "        pass\n",
    "while True:\n",
    "        try:\n",
    "            value = 0\n",
    "            n = input('Enter the numerator :')\n",
    "            num = int(n)\n",
    "            n = input('Enter the denominator :')\n",
    "            denom = int(n)\n",
    "            if denom == 0:\n",
    "                raise ZeroDenominatorError('Denominator should not be zero')\n",
    "            value = num/denom\n",
    "        except ValueError:\n",
    "            print(\"Numerator and Denominator should be integers\")\n",
    "        except ZeroDenominatorError:\n",
    "            print(\"ZeroDenominatorError is raised\")\n",
    "        except ZeroDivisionError:\n",
    "            print(\"Division by zero is not allowed\")\n",
    "        except (ValueError, ZeroDivisionError):\n",
    "            print('Division by zero is not allowed and Numerator and Denominator should be integers')\n",
    "        except :\n",
    "            print(\"some exception is raised\") \n",
    "        else:\n",
    "            print(value)\n",
    "            break\n",
    "        finally:\n",
    "            print()\n",
    "            print('Numerator:',num)\n",
    "            print('Denominator:',denom)\n",
    "            print('Value:',value)\n",
    "            print('exception may or may not be raised')"
   ]
  },
  {
   "cell_type": "code",
   "execution_count": null,
   "metadata": {},
   "outputs": [],
   "source": []
  }
 ],
 "metadata": {
  "kernelspec": {
   "display_name": "Python 3",
   "language": "python",
   "name": "python3"
  },
  "language_info": {
   "codemirror_mode": {
    "name": "ipython",
    "version": 3
   },
   "file_extension": ".py",
   "mimetype": "text/x-python",
   "name": "python",
   "nbconvert_exporter": "python",
   "pygments_lexer": "ipython3",
   "version": "3.8.2"
  }
 },
 "nbformat": 4,
 "nbformat_minor": 4
}
